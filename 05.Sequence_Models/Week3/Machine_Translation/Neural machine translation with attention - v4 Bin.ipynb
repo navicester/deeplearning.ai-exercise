{
 "cells": [
  {
   "cell_type": "markdown",
   "metadata": {},
   "source": [
    "# Neural Machine Translation\n",
    "\n",
    "Welcome to your first programming assignment for this week! \n",
    "\n",
    "You will build a Neural Machine Translation (NMT) model to translate human readable dates (\"25th of June, 2009\") into machine readable dates (\"2009-06-25\"). You will do this using an attention model, one of the most sophisticated sequence to sequence models. \n",
    "\n",
    "This notebook was produced together with NVIDIA's Deep Learning Institute. \n",
    "\n",
    "Let's load all the packages you will need for this assignment."
   ]
  },
  {
   "cell_type": "code",
   "execution_count": 5,
   "metadata": {},
   "outputs": [
    {
     "name": "stdout",
     "output_type": "stream",
     "text": [
      "numpy==1.11.3\n",
      "keras==2.0.7\n",
      "Faker==0.8.10\n",
      "tqdm==4.17.0\n",
      "babel==2.3.4\n",
      "matplotlib==2.0.0\n"
     ]
    }
   ],
   "source": [
    "import numpy\n",
    "print(\"numpy==\"+numpy.__version__)\n",
    "import keras\n",
    "print(\"keras==\"+keras.__version__)\n",
    "import faker\n",
    "print(\"Faker==\"+faker.VERSION)\n",
    "import tqdm\n",
    "print(\"tqdm==\"+tqdm.__version__)\n",
    "import babel\n",
    "print(\"babel==\"+babel.__version__)\n",
    "import matplotlib\n",
    "print(\"matplotlib==\"+matplotlib.__version__)"
   ]
  },
  {
   "cell_type": "code",
   "execution_count": 6,
   "metadata": {},
   "outputs": [],
   "source": [
    "from keras.layers import Bidirectional, Concatenate, Permute, Dot, Input, LSTM, Multiply\n",
    "from keras.layers import RepeatVector, Dense, Activation, Lambda\n",
    "from keras.optimizers import Adam\n",
    "from keras.utils import to_categorical\n",
    "from keras.models import load_model, Model\n",
    "import keras.backend as K\n",
    "import numpy as np\n",
    "\n",
    "from faker import Faker\n",
    "import random\n",
    "from tqdm import tqdm\n",
    "from babel.dates import format_date\n",
    "from nmt_utils import *\n",
    "import matplotlib.pyplot as plt\n",
    "%matplotlib inline"
   ]
  },
  {
   "cell_type": "markdown",
   "metadata": {},
   "source": [
    "## 1 - Translating human readable dates into machine readable dates\n",
    "\n",
    "The model you will build here could be used to translate from one language to another, such as translating from English to Hindi. However, language translation requires massive datasets and usually takes days of training on GPUs. To give you a place to experiment with these models even without using massive datasets, we will instead use a simpler \"date translation\" task. \n",
    "\n",
    "The network will input a date written in a variety of possible formats (*e.g. \"the 29th of August 1958\", \"03/30/1968\", \"24 JUNE 1987\"*) and translate them into standardized, machine readable dates (*e.g. \"1958-08-29\", \"1968-03-30\", \"1987-06-24\"*). We will have the network learn to output dates in the common machine-readable format YYYY-MM-DD. \n",
    "\n",
    "\n",
    "\n",
    "<!-- \n",
    "Take a look at [nmt_utils.py](./nmt_utils.py) to see all the formatting. Count and figure out how the formats work, you will need this knowledge later. !--> "
   ]
  },
  {
   "cell_type": "markdown",
   "metadata": {},
   "source": [
    "### 1.1 - Dataset\n",
    "\n",
    "We will train the model on a dataset of 10000 human readable dates and their equivalent, standardized, machine readable dates. Let's run the following cells to load the dataset and print some examples. "
   ]
  },
  {
   "cell_type": "code",
   "execution_count": 7,
   "metadata": {},
   "outputs": [
    {
     "name": "stderr",
     "output_type": "stream",
     "text": [
      "100%|██████████████████████████████████████| 10000/10000 [00:01<00:00, 7550.22it/s]\n"
     ]
    }
   ],
   "source": [
    "m = 10000\n",
    "dataset, human_vocab, machine_vocab, inv_machine_vocab = load_dataset(m)"
   ]
  },
  {
   "cell_type": "code",
   "execution_count": 8,
   "metadata": {},
   "outputs": [
    {
     "data": {
      "text/plain": [
       "[('9 may 1998', '1998-05-09'),\n",
       " ('10.11.19', '2019-11-10'),\n",
       " ('9/10/70', '1970-09-10'),\n",
       " ('saturday april 28 1990', '1990-04-28'),\n",
       " ('thursday january 26 1995', '1995-01-26'),\n",
       " ('monday march 7 1983', '1983-03-07'),\n",
       " ('sunday may 22 1988', '1988-05-22'),\n",
       " ('08 jul 2008', '2008-07-08'),\n",
       " ('8 sep 1999', '1999-09-08'),\n",
       " ('thursday january 1 1981', '1981-01-01')]"
      ]
     },
     "execution_count": 8,
     "metadata": {},
     "output_type": "execute_result"
    }
   ],
   "source": [
    "dataset[:10]"
   ]
  },
  {
   "cell_type": "markdown",
   "metadata": {},
   "source": [
    "You've loaded:\n",
    "- `dataset`: a list of tuples of (human readable date, machine readable date)\n",
    "- `human_vocab`: a python dictionary mapping all characters used in the human readable dates to an integer-valued index \n",
    "- `machine_vocab`: a python dictionary mapping all characters used in machine readable dates to an integer-valued index. These indices are not necessarily consistent with `human_vocab`. \n",
    "- `inv_machine_vocab`: the inverse dictionary of `machine_vocab`, mapping from indices back to characters. \n",
    "\n",
    "Let's preprocess the data and map the raw text data into the index values. We will also use Tx=30 (which we assume is the maximum length of the human readable date; if we get a longer input, we would have to truncate it) and Ty=10 (since \"YYYY-MM-DD\" is 10 characters long). "
   ]
  },
  {
   "cell_type": "code",
   "execution_count": 9,
   "metadata": {},
   "outputs": [
    {
     "name": "stdout",
     "output_type": "stream",
     "text": [
      "X.shape: (10000, 30)\n",
      "Y.shape: (10000, 10)\n",
      "Xoh.shape: (10000, 30, 37)\n",
      "Yoh.shape: (10000, 10, 11)\n"
     ]
    }
   ],
   "source": [
    "Tx = 30\n",
    "Ty = 10\n",
    "X, Y, Xoh, Yoh = preprocess_data(dataset, human_vocab, machine_vocab, Tx, Ty)\n",
    "\n",
    "print(\"X.shape:\", X.shape)\n",
    "print(\"Y.shape:\", Y.shape)\n",
    "print(\"Xoh.shape:\", Xoh.shape)\n",
    "print(\"Yoh.shape:\", Yoh.shape)"
   ]
  },
  {
   "cell_type": "markdown",
   "metadata": {},
   "source": [
    "You now have:\n",
    "- `X`: a processed version of the human readable dates in the training set, where each character is replaced by an index mapped to the character via `human_vocab`. Each date is further padded to $T_x$ values with a special character (< pad >). `X.shape = (m, Tx)`\n",
    "- `Y`: a processed version of the machine readable dates in the training set, where each character is replaced by the index it is mapped to in `machine_vocab`. You should have `Y.shape = (m, Ty)`. \n",
    "- `Xoh`: one-hot version of `X`, the \"1\" entry's index is mapped to the character thanks to `human_vocab`. `Xoh.shape = (m, Tx, len(human_vocab))`\n",
    "- `Yoh`: one-hot version of `Y`, the \"1\" entry's index is mapped to the character thanks to `machine_vocab`. `Yoh.shape = (m, Tx, len(machine_vocab))`. Here, `len(machine_vocab) = 11` since there are 11 characters ('-' as well as 0-9). \n"
   ]
  },
  {
   "cell_type": "markdown",
   "metadata": {},
   "source": [
    "Lets also look at some examples of preprocessed training examples. Feel free to play with `index` in the cell below to navigate the dataset and see how source/target dates are preprocessed. "
   ]
  },
  {
   "cell_type": "code",
   "execution_count": 10,
   "metadata": {},
   "outputs": [
    {
     "name": "stdout",
     "output_type": "stream",
     "text": [
      "Source date: 9 may 1998\n",
      "Target date: 1998-05-09\n",
      "\n",
      "Source after preprocessing (indices): [12  0 24 13 34  0  4 12 12 11 36 36 36 36 36 36 36 36 36 36 36 36 36 36 36\n",
      " 36 36 36 36 36]\n",
      "Target after preprocessing (indices): [ 2 10 10  9  0  1  6  0  1 10]\n",
      "\n",
      "Source after preprocessing (one-hot): [[ 0.  0.  0. ...,  0.  0.  0.]\n",
      " [ 1.  0.  0. ...,  0.  0.  0.]\n",
      " [ 0.  0.  0. ...,  0.  0.  0.]\n",
      " ..., \n",
      " [ 0.  0.  0. ...,  0.  0.  1.]\n",
      " [ 0.  0.  0. ...,  0.  0.  1.]\n",
      " [ 0.  0.  0. ...,  0.  0.  1.]]\n",
      "Target after preprocessing (one-hot): [[ 0.  0.  1.  0.  0.  0.  0.  0.  0.  0.  0.]\n",
      " [ 0.  0.  0.  0.  0.  0.  0.  0.  0.  0.  1.]\n",
      " [ 0.  0.  0.  0.  0.  0.  0.  0.  0.  0.  1.]\n",
      " [ 0.  0.  0.  0.  0.  0.  0.  0.  0.  1.  0.]\n",
      " [ 1.  0.  0.  0.  0.  0.  0.  0.  0.  0.  0.]\n",
      " [ 0.  1.  0.  0.  0.  0.  0.  0.  0.  0.  0.]\n",
      " [ 0.  0.  0.  0.  0.  0.  1.  0.  0.  0.  0.]\n",
      " [ 1.  0.  0.  0.  0.  0.  0.  0.  0.  0.  0.]\n",
      " [ 0.  1.  0.  0.  0.  0.  0.  0.  0.  0.  0.]\n",
      " [ 0.  0.  0.  0.  0.  0.  0.  0.  0.  0.  1.]]\n"
     ]
    }
   ],
   "source": [
    "index = 0\n",
    "print(\"Source date:\", dataset[index][0])\n",
    "print(\"Target date:\", dataset[index][1])\n",
    "print()\n",
    "print(\"Source after preprocessing (indices):\", X[index])\n",
    "print(\"Target after preprocessing (indices):\", Y[index])\n",
    "print()\n",
    "print(\"Source after preprocessing (one-hot):\", Xoh[index])\n",
    "print(\"Target after preprocessing (one-hot):\", Yoh[index])"
   ]
  },
  {
   "cell_type": "markdown",
   "metadata": {},
   "source": [
    "## 2 - Neural machine translation with attention\n",
    "\n",
    "If you had to translate a book's paragraph from French to English, you would not read the whole paragraph, then close the book and translate. Even during the translation process, you would read/re-read and focus on the parts of the French paragraph corresponding to the parts of the English you are writing down. \n",
    "\n",
    "The attention mechanism tells a Neural Machine Translation model where it should pay attention to at any step. \n",
    "\n",
    "\n",
    "### 2.1 - Attention mechanism\n",
    "\n",
    "In this part, you will implement the attention mechanism presented in the lecture videos. Here is a figure to remind you how the model works. The diagram on the left shows the attention model. The diagram on the right shows what one \"Attention\" step does to calculate the attention variables $\\alpha^{\\langle t, t' \\rangle}$, which are used to compute the context variable $context^{\\langle t \\rangle}$ for each timestep in the output ($t=1, \\ldots, T_y$). \n",
    "\n",
    "<table>\n",
    "<td> \n",
    "<img src=\"images/attn_model.png\" style=\"width:500;height:500px;\"> <br>\n",
    "</td> \n",
    "<td> \n",
    "<img src=\"images/attn_mechanism.png\" style=\"width:500;height:500px;\"> <br>\n",
    "</td> \n",
    "</table>\n",
    "<caption><center> **Figure 1**: Neural machine translation with attention</center></caption>\n"
   ]
  },
  {
   "cell_type": "markdown",
   "metadata": {},
   "source": [
    "\n",
    "Here are some properties of the model that you may notice: \n",
    "\n",
    "- There are two separate LSTMs in this model (see diagram on the left). Because the one at the bottom of the picture is a Bi-directional LSTM and comes *before* the attention mechanism, we will call it *pre-attention* Bi-LSTM. The LSTM at the top of the diagram comes *after* the attention mechanism, so we will call it the *post-attention* LSTM. The pre-attention Bi-LSTM goes through $T_x$ time steps; the post-attention LSTM goes through $T_y$ time steps. \n",
    "\n",
    "- The post-attention LSTM passes $s^{\\langle t \\rangle}, c^{\\langle t \\rangle}$ from one time step to the next. In the lecture videos, we were using only a basic RNN for the post-activation sequence model, so the state captured by the RNN output activations $s^{\\langle t\\rangle}$. But since we are using an LSTM here, the LSTM has both the output activation $s^{\\langle t\\rangle}$ and the hidden cell state $c^{\\langle t\\rangle}$. However, unlike previous text generation examples (such as Dinosaurus in week 1), in this model the post-activation LSTM at time $t$ does will not take the specific generated $y^{\\langle t-1 \\rangle}$ as input; it only takes $s^{\\langle t\\rangle}$ and $c^{\\langle t\\rangle}$ as input. We have designed the model this way, because (unlike language generation where adjacent characters are highly correlated) there isn't as strong a dependency between the previous character and the next character in a YYYY-MM-DD date. \n",
    "\n",
    "- We use $a^{\\langle t \\rangle} = [\\overrightarrow{a}^{\\langle t \\rangle}; \\overleftarrow{a}^{\\langle t \\rangle}]$ to represent the concatenation of the activations of both the forward-direction and backward-directions of the pre-attention Bi-LSTM. \n",
    "\n",
    "- The diagram on the right uses a `RepeatVector` node to copy $s^{\\langle t-1 \\rangle}$'s value $T_x$ times, and then `Concatenation` to concatenate $s^{\\langle t-1 \\rangle}$ and $a^{\\langle t \\rangle}$ to compute $e^{\\langle t, t'}$, which is then passed through a softmax to compute $\\alpha^{\\langle t, t' \\rangle}$. We'll explain how to use `RepeatVector` and `Concatenation` in Keras below. \n",
    "\n",
    "Lets implement this model. You will start by implementing two functions: `one_step_attention()` and `model()`.\n",
    "\n",
    "**1) `one_step_attention()`**: At step $t$, given all the hidden states of the Bi-LSTM ($[a^{<1>},a^{<2>}, ..., a^{<T_x>}]$) and the previous hidden state of the second LSTM ($s^{<t-1>}$), `one_step_attention()` will compute the attention weights ($[\\alpha^{<t,1>},\\alpha^{<t,2>}, ..., \\alpha^{<t,T_x>}]$) and output the context vector (see Figure  1 (right) for details):\n",
    "$$context^{<t>} = \\sum_{t' = 1}^{T_x} \\alpha^{<t,t'>}a^{<t'>}\\tag{1}$$ \n",
    "\n",
    "Note that we are denoting the attention in this notebook $context^{\\langle t \\rangle}$. In the lecture videos, the context was denoted $c^{\\langle t \\rangle}$, but here we are calling it $context^{\\langle t \\rangle}$ to avoid confusion with the (post-attention) LSTM's internal memory cell variable, which is sometimes also denoted $c^{\\langle t \\rangle}$. \n",
    "  \n",
    "**2) `model()`**: Implements the entire model. It first runs the input through a Bi-LSTM to get back $[a^{<1>},a^{<2>}, ..., a^{<T_x>}]$. Then, it calls `one_step_attention()` $T_y$ times (`for` loop). At each iteration of this loop, it gives the computed context vector $c^{<t>}$ to the second LSTM, and runs the output of the LSTM through a dense layer with softmax activation to generate a prediction $\\hat{y}^{<t>}$. \n",
    "\n",
    "\n",
    "\n",
    "**Exercise**: Implement `one_step_attention()`. The function `model()` will call the layers in `one_step_attention()` $T_y$ using a for-loop, and it is important that all $T_y$ copies have the same weights. I.e., it should not re-initiaiize the weights every time. In other words, all $T_y$ steps should have shared weights. Here's how you can implement layers with shareable weights in Keras:\n",
    "1. Define the layer objects (as global variables for examples).\n",
    "2. Call these objects when propagating the input.\n",
    "\n",
    "We have defined the layers you need as global variables. Please run the following cells to create them. Please check the Keras documentation to make sure you understand what these layers are: [RepeatVector()](https://keras.io/layers/core/#repeatvector), [Concatenate()](https://keras.io/layers/merge/#concatenate), [Dense()](https://keras.io/layers/core/#dense), [Activation()](https://keras.io/layers/core/#activation), [Dot()](https://keras.io/layers/merge/#dot)."
   ]
  },
  {
   "cell_type": "code",
   "execution_count": 11,
   "metadata": {},
   "outputs": [],
   "source": [
    "# Defined shared layers as global variables\n",
    "repeator = RepeatVector(Tx)\n",
    "concatenator = Concatenate(axis=-1)\n",
    "densor1 = Dense(10, activation = \"tanh\")\n",
    "densor2 = Dense(1, activation = \"relu\")\n",
    "activator = Activation(softmax, name='attention_weights') # We are using a custom softmax(axis = 1) loaded in this notebook\n",
    "dotor = Dot(axes = 1)"
   ]
  },
  {
   "cell_type": "markdown",
   "metadata": {},
   "source": [
    "Now you can use these layers to implement `one_step_attention()`. In order to propagate a Keras tensor object X through one of these layers, use `layer(X)` (or `layer([X,Y])` if it requires multiple inputs.), e.g. `densor(X)` will propagate X through the `Dense(1)` layer defined above."
   ]
  },
  {
   "cell_type": "code",
   "execution_count": 12,
   "metadata": {},
   "outputs": [],
   "source": [
    "# GRADED FUNCTION: one_step_attention\n",
    "\n",
    "def one_step_attention(a, s_prev):\n",
    "    \"\"\"\n",
    "    Performs one step of attention: Outputs a context vector computed as a dot product of the attention weights\n",
    "    \"alphas\" and the hidden states \"a\" of the Bi-LSTM.\n",
    "    \n",
    "    Arguments:\n",
    "    a -- hidden state output of the Bi-LSTM, numpy-array of shape (m, Tx, 2*n_a)\n",
    "    s_prev -- previous hidden state of the (post-attention) LSTM, numpy-array of shape (m, n_s)\n",
    "    \n",
    "    Returns:\n",
    "    context -- context vector, input of the next (post-attetion) LSTM cell\n",
    "    \"\"\"\n",
    "    \n",
    "    ### START CODE HERE ###\n",
    "    # Use repeator to repeat s_prev to be of shape (m, Tx, n_s) so that you can concatenate it with all hidden states \"a\" (≈ 1 line)\n",
    "    s_prev = repeator(s_prev)\n",
    "    # Use concatenator to concatenate a and s_prev on the last axis (≈ 1 line)\n",
    "    concat = concatenator([a, s_prev])\n",
    "    # Use densor1 to propagate concat through a small fully-connected neural network to compute the \"intermediate energies\" variable e. (≈1 lines)\n",
    "    e = densor1(concat)\n",
    "    # Use densor2 to propagate e through a small fully-connected neural network to compute the \"energies\" variable energies. (≈1 lines)\n",
    "    energies = densor2(e)\n",
    "    # Use \"activator\" on \"energies\" to compute the attention weights \"alphas\" (≈ 1 line)\n",
    "    alphas = activator(energies)\n",
    "    # Use dotor together with \"alphas\" and \"a\" to compute the context vector to be given to the next (post-attention) LSTM-cell (≈ 1 line)\n",
    "    context = dotor([alphas, a])\n",
    "    ### END CODE HERE ###\n",
    "    \n",
    "    return context"
   ]
  },
  {
   "cell_type": "markdown",
   "metadata": {},
   "source": [
    "You will be able to check the expected output of `one_step_attention()` after you've coded the `model()` function."
   ]
  },
  {
   "cell_type": "markdown",
   "metadata": {},
   "source": [
    "**Exercise**: Implement `model()` as explained in figure 2 and the text above. Again, we have defined global layers that will share weights to be used in `model()`."
   ]
  },
  {
   "cell_type": "code",
   "execution_count": 13,
   "metadata": {},
   "outputs": [],
   "source": [
    "n_a = 32\n",
    "n_s = 64\n",
    "post_activation_LSTM_cell = LSTM(n_s, return_state = True)\n",
    "output_layer = Dense(len(machine_vocab), activation=softmax)"
   ]
  },
  {
   "cell_type": "markdown",
   "metadata": {},
   "source": [
    "Now you can use these layers $T_y$ times in a `for` loop to generate the outputs, and their parameters will not be reinitialized. You will have to carry out the following steps: \n",
    "\n",
    "1. Propagate the input into a [Bidirectional](https://keras.io/layers/wrappers/#bidirectional) [LSTM](https://keras.io/layers/recurrent/#lstm)\n",
    "2. Iterate for $t = 0, \\dots, T_y-1$: \n",
    "    1. Call `one_step_attention()` on $[\\alpha^{<t,1>},\\alpha^{<t,2>}, ..., \\alpha^{<t,T_x>}]$ and $s^{<t-1>}$ to get the context vector $context^{<t>}$.\n",
    "    2. Give $context^{<t>}$ to the post-attention LSTM cell. Remember pass in the previous hidden-state $s^{\\langle t-1\\rangle}$ and cell-states $c^{\\langle t-1\\rangle}$ of this LSTM using `initial_state= [previous hidden state, previous cell state]`. Get back the new hidden state $s^{<t>}$ and the new cell state $c^{<t>}$.\n",
    "    3. Apply a softmax layer to $s^{<t>}$, get the output. \n",
    "    4. Save the output by adding it to the list of outputs.\n",
    "\n",
    "3. Create your Keras model instance, it should have three inputs (\"inputs\", $s^{<0>}$ and $c^{<0>}$) and output the list of \"outputs\"."
   ]
  },
  {
   "cell_type": "code",
   "execution_count": 14,
   "metadata": {},
   "outputs": [],
   "source": [
    "# GRADED FUNCTION: model\n",
    "\n",
    "def model(Tx, Ty, n_a, n_s, human_vocab_size, machine_vocab_size):\n",
    "    \"\"\"\n",
    "    Arguments:\n",
    "    Tx -- length of the input sequence\n",
    "    Ty -- length of the output sequence\n",
    "    n_a -- hidden state size of the Bi-LSTM\n",
    "    n_s -- hidden state size of the post-attention LSTM\n",
    "    human_vocab_size -- size of the python dictionary \"human_vocab\"\n",
    "    machine_vocab_size -- size of the python dictionary \"machine_vocab\"\n",
    "\n",
    "    Returns:\n",
    "    model -- Keras model instance\n",
    "    \"\"\"\n",
    "    \n",
    "    # Define the inputs of your model with a shape (Tx,)\n",
    "    # Define s0 and c0, initial hidden state for the decoder LSTM of shape (n_s,)\n",
    "    X = Input(shape=(Tx, human_vocab_size))\n",
    "    s0 = Input(shape=(n_s,), name='s0')\n",
    "    c0 = Input(shape=(n_s,), name='c0')\n",
    "    s = s0\n",
    "    c = c0\n",
    "    \n",
    "    # Initialize empty list of outputs\n",
    "    outputs = []\n",
    "    \n",
    "    ### START CODE HERE ###\n",
    "    \n",
    "    # Step 1: Define your pre-attention Bi-LSTM. Remember to use return_sequences=True. (≈ 1 line)\n",
    "    a = Bidirectional(LSTM(n_a, return_sequences = True))(X)    \n",
    "    # Step 2: Iterate for Ty steps\n",
    "    for t in range(Ty):\n",
    "    \n",
    "        # Step 2.A: Perform one step of the attention mechanism to get back the context vector at step t (≈ 1 line)\n",
    "        context = one_step_attention(a, s)\n",
    "        \n",
    "        # Step 2.B: Apply the post-attention LSTM cell to the \"context\" vector.\n",
    "        # Don't forget to pass: initial_state = [hidden state, cell state] (≈ 1 line)\n",
    "        s, _, c = post_activation_LSTM_cell(context, initial_state = [s, c])\n",
    "        \n",
    "        # Step 2.C: Apply Dense layer to the hidden state output of the post-attention LSTM (≈ 1 line)\n",
    "        out = output_layer(s)\n",
    "        \n",
    "        # Step 2.D: Append \"out\" to the \"outputs\" list (≈ 1 line)\n",
    "        outputs.append(out)\n",
    "    \n",
    "    # Step 3: Create model instance taking three inputs and returning the list of outputs. (≈ 1 line)\n",
    "    model = Model(inputs = [X, s0, c0], outputs = outputs)\n",
    "    \n",
    "    ### END CODE HERE ###\n",
    "    \n",
    "    return model"
   ]
  },
  {
   "cell_type": "markdown",
   "metadata": {},
   "source": [
    "Run the following cell to create your model."
   ]
  },
  {
   "cell_type": "code",
   "execution_count": 15,
   "metadata": {},
   "outputs": [],
   "source": [
    "model = model(Tx, Ty, n_a, n_s, len(human_vocab), len(machine_vocab))"
   ]
  },
  {
   "cell_type": "markdown",
   "metadata": {},
   "source": [
    "Let's get a summary of the model to check if it matches the expected output."
   ]
  },
  {
   "cell_type": "code",
   "execution_count": 16,
   "metadata": {},
   "outputs": [
    {
     "name": "stdout",
     "output_type": "stream",
     "text": [
      "____________________________________________________________________________________________________\n",
      "Layer (type)                     Output Shape          Param #     Connected to                     \n",
      "====================================================================================================\n",
      "input_1 (InputLayer)             (None, 30, 37)        0                                            \n",
      "____________________________________________________________________________________________________\n",
      "s0 (InputLayer)                  (None, 64)            0                                            \n",
      "____________________________________________________________________________________________________\n",
      "bidirectional_1 (Bidirectional)  (None, 30, 64)        17920       input_1[0][0]                    \n",
      "____________________________________________________________________________________________________\n",
      "repeat_vector_1 (RepeatVector)   (None, 30, 64)        0           s0[0][0]                         \n",
      "                                                                   lstm_1[0][0]                     \n",
      "                                                                   lstm_1[1][0]                     \n",
      "                                                                   lstm_1[2][0]                     \n",
      "                                                                   lstm_1[3][0]                     \n",
      "                                                                   lstm_1[4][0]                     \n",
      "                                                                   lstm_1[5][0]                     \n",
      "                                                                   lstm_1[6][0]                     \n",
      "                                                                   lstm_1[7][0]                     \n",
      "                                                                   lstm_1[8][0]                     \n",
      "____________________________________________________________________________________________________\n",
      "concatenate_1 (Concatenate)      (None, 30, 128)       0           bidirectional_1[0][0]            \n",
      "                                                                   repeat_vector_1[0][0]            \n",
      "                                                                   bidirectional_1[0][0]            \n",
      "                                                                   repeat_vector_1[1][0]            \n",
      "                                                                   bidirectional_1[0][0]            \n",
      "                                                                   repeat_vector_1[2][0]            \n",
      "                                                                   bidirectional_1[0][0]            \n",
      "                                                                   repeat_vector_1[3][0]            \n",
      "                                                                   bidirectional_1[0][0]            \n",
      "                                                                   repeat_vector_1[4][0]            \n",
      "                                                                   bidirectional_1[0][0]            \n",
      "                                                                   repeat_vector_1[5][0]            \n",
      "                                                                   bidirectional_1[0][0]            \n",
      "                                                                   repeat_vector_1[6][0]            \n",
      "                                                                   bidirectional_1[0][0]            \n",
      "                                                                   repeat_vector_1[7][0]            \n",
      "                                                                   bidirectional_1[0][0]            \n",
      "                                                                   repeat_vector_1[8][0]            \n",
      "                                                                   bidirectional_1[0][0]            \n",
      "                                                                   repeat_vector_1[9][0]            \n",
      "____________________________________________________________________________________________________\n",
      "dense_1 (Dense)                  (None, 30, 10)        1290        concatenate_1[0][0]              \n",
      "                                                                   concatenate_1[1][0]              \n",
      "                                                                   concatenate_1[2][0]              \n",
      "                                                                   concatenate_1[3][0]              \n",
      "                                                                   concatenate_1[4][0]              \n",
      "                                                                   concatenate_1[5][0]              \n",
      "                                                                   concatenate_1[6][0]              \n",
      "                                                                   concatenate_1[7][0]              \n",
      "                                                                   concatenate_1[8][0]              \n",
      "                                                                   concatenate_1[9][0]              \n",
      "____________________________________________________________________________________________________\n",
      "dense_2 (Dense)                  (None, 30, 1)         11          dense_1[0][0]                    \n",
      "                                                                   dense_1[1][0]                    \n",
      "                                                                   dense_1[2][0]                    \n",
      "                                                                   dense_1[3][0]                    \n",
      "                                                                   dense_1[4][0]                    \n",
      "                                                                   dense_1[5][0]                    \n",
      "                                                                   dense_1[6][0]                    \n",
      "                                                                   dense_1[7][0]                    \n",
      "                                                                   dense_1[8][0]                    \n",
      "                                                                   dense_1[9][0]                    \n",
      "____________________________________________________________________________________________________\n",
      "attention_weights (Activation)   (None, 30, 1)         0           dense_2[0][0]                    \n",
      "                                                                   dense_2[1][0]                    \n",
      "                                                                   dense_2[2][0]                    \n",
      "                                                                   dense_2[3][0]                    \n",
      "                                                                   dense_2[4][0]                    \n",
      "                                                                   dense_2[5][0]                    \n",
      "                                                                   dense_2[6][0]                    \n",
      "                                                                   dense_2[7][0]                    \n",
      "                                                                   dense_2[8][0]                    \n",
      "                                                                   dense_2[9][0]                    \n",
      "____________________________________________________________________________________________________\n",
      "dot_1 (Dot)                      (None, 1, 64)         0           attention_weights[0][0]          \n",
      "                                                                   bidirectional_1[0][0]            \n",
      "                                                                   attention_weights[1][0]          \n",
      "                                                                   bidirectional_1[0][0]            \n",
      "                                                                   attention_weights[2][0]          \n",
      "                                                                   bidirectional_1[0][0]            \n",
      "                                                                   attention_weights[3][0]          \n"
     ]
    },
    {
     "name": "stdout",
     "output_type": "stream",
     "text": [
      "                                                                   bidirectional_1[0][0]            \n",
      "                                                                   attention_weights[4][0]          \n",
      "                                                                   bidirectional_1[0][0]            \n",
      "                                                                   attention_weights[5][0]          \n",
      "                                                                   bidirectional_1[0][0]            \n",
      "                                                                   attention_weights[6][0]          \n",
      "                                                                   bidirectional_1[0][0]            \n",
      "                                                                   attention_weights[7][0]          \n",
      "                                                                   bidirectional_1[0][0]            \n",
      "                                                                   attention_weights[8][0]          \n",
      "                                                                   bidirectional_1[0][0]            \n",
      "                                                                   attention_weights[9][0]          \n",
      "                                                                   bidirectional_1[0][0]            \n",
      "____________________________________________________________________________________________________\n",
      "c0 (InputLayer)                  (None, 64)            0                                            \n",
      "____________________________________________________________________________________________________\n",
      "lstm_1 (LSTM)                    [(None, 64), (None, 6 33024       dot_1[0][0]                      \n",
      "                                                                   s0[0][0]                         \n",
      "                                                                   c0[0][0]                         \n",
      "                                                                   dot_1[1][0]                      \n",
      "                                                                   lstm_1[0][0]                     \n",
      "                                                                   lstm_1[0][2]                     \n",
      "                                                                   dot_1[2][0]                      \n",
      "                                                                   lstm_1[1][0]                     \n",
      "                                                                   lstm_1[1][2]                     \n",
      "                                                                   dot_1[3][0]                      \n",
      "                                                                   lstm_1[2][0]                     \n",
      "                                                                   lstm_1[2][2]                     \n",
      "                                                                   dot_1[4][0]                      \n",
      "                                                                   lstm_1[3][0]                     \n",
      "                                                                   lstm_1[3][2]                     \n",
      "                                                                   dot_1[5][0]                      \n",
      "                                                                   lstm_1[4][0]                     \n",
      "                                                                   lstm_1[4][2]                     \n",
      "                                                                   dot_1[6][0]                      \n",
      "                                                                   lstm_1[5][0]                     \n",
      "                                                                   lstm_1[5][2]                     \n",
      "                                                                   dot_1[7][0]                      \n",
      "                                                                   lstm_1[6][0]                     \n",
      "                                                                   lstm_1[6][2]                     \n",
      "                                                                   dot_1[8][0]                      \n",
      "                                                                   lstm_1[7][0]                     \n",
      "                                                                   lstm_1[7][2]                     \n",
      "                                                                   dot_1[9][0]                      \n",
      "                                                                   lstm_1[8][0]                     \n",
      "                                                                   lstm_1[8][2]                     \n",
      "____________________________________________________________________________________________________\n",
      "dense_3 (Dense)                  (None, 11)            715         lstm_1[0][0]                     \n",
      "                                                                   lstm_1[1][0]                     \n",
      "                                                                   lstm_1[2][0]                     \n",
      "                                                                   lstm_1[3][0]                     \n",
      "                                                                   lstm_1[4][0]                     \n",
      "                                                                   lstm_1[5][0]                     \n",
      "                                                                   lstm_1[6][0]                     \n",
      "                                                                   lstm_1[7][0]                     \n",
      "                                                                   lstm_1[8][0]                     \n",
      "                                                                   lstm_1[9][0]                     \n",
      "====================================================================================================\n",
      "Total params: 52,960\n",
      "Trainable params: 52,960\n",
      "Non-trainable params: 0\n",
      "____________________________________________________________________________________________________\n"
     ]
    }
   ],
   "source": [
    "model.summary()"
   ]
  },
  {
   "cell_type": "markdown",
   "metadata": {},
   "source": [
    "**Expected Output**:\n",
    "\n",
    "Here is the summary you should see\n",
    "<table>\n",
    "    <tr>\n",
    "        <td>\n",
    "            **Total params:**\n",
    "        </td>\n",
    "        <td>\n",
    "         52,960\n",
    "        </td>\n",
    "    </tr>\n",
    "        <tr>\n",
    "        <td>\n",
    "            **Trainable params:**\n",
    "        </td>\n",
    "        <td>\n",
    "         52,960\n",
    "        </td>\n",
    "    </tr>\n",
    "            <tr>\n",
    "        <td>\n",
    "            **Non-trainable params:**\n",
    "        </td>\n",
    "        <td>\n",
    "         0\n",
    "        </td>\n",
    "    </tr>\n",
    "                    <tr>\n",
    "        <td>\n",
    "            **bidirectional_1's output shape **\n",
    "        </td>\n",
    "        <td>\n",
    "         (None, 30, 64)  \n",
    "        </td>\n",
    "    </tr>\n",
    "    <tr>\n",
    "        <td>\n",
    "            **repeat_vector_1's output shape **\n",
    "        </td>\n",
    "        <td>\n",
    "         (None, 30, 64) \n",
    "        </td>\n",
    "    </tr>\n",
    "                <tr>\n",
    "        <td>\n",
    "            **concatenate_1's output shape **\n",
    "        </td>\n",
    "        <td>\n",
    "         (None, 30, 128) \n",
    "        </td>\n",
    "    </tr>\n",
    "            <tr>\n",
    "        <td>\n",
    "            **attention_weights's output shape **\n",
    "        </td>\n",
    "        <td>\n",
    "         (None, 30, 1)  \n",
    "        </td>\n",
    "    </tr>\n",
    "        <tr>\n",
    "        <td>\n",
    "            **dot_1's output shape **\n",
    "        </td>\n",
    "        <td>\n",
    "         (None, 1, 64)\n",
    "        </td>\n",
    "    </tr>\n",
    "           <tr>\n",
    "        <td>\n",
    "            **dense_3's output shape **\n",
    "        </td>\n",
    "        <td>\n",
    "         (None, 11) \n",
    "        </td>\n",
    "    </tr>\n",
    "</table>\n"
   ]
  },
  {
   "cell_type": "markdown",
   "metadata": {},
   "source": [
    "As usual, after creating your model in Keras, you need to compile it and define what loss, optimizer and metrics you want to use. Compile your model using `categorical_crossentropy` loss, a custom [Adam](https://keras.io/optimizers/#adam) [optimizer](https://keras.io/optimizers/#usage-of-optimizers) (`learning rate = 0.005`, $\\beta_1 = 0.9$, $\\beta_2 = 0.999$, `decay = 0.01`)  and `['accuracy']` metrics:"
   ]
  },
  {
   "cell_type": "code",
   "execution_count": 17,
   "metadata": {},
   "outputs": [],
   "source": [
    "### START CODE HERE ### (≈2 lines)\n",
    "opt = Adam(lr = 0.005, beta_1 = 0.9, beta_2 = 0.999, decay = 0.01)\n",
    "model.compile(optimizer = opt, loss = \"categorical_crossentropy\", metrics = ['accuracy'])\n",
    "### END CODE HERE ###"
   ]
  },
  {
   "cell_type": "markdown",
   "metadata": {},
   "source": [
    "The last step is to define all your inputs and outputs to fit the model:\n",
    "- You already have X of shape $(m = 10000, T_x = 30)$ containing the training examples.\n",
    "- You need to create `s0` and `c0` to initialize your `post_attention_LSTM_cell` with 0s.\n",
    "- Given the `model()` you coded, you need the \"outputs\" to be a list of 11 elements of shape (m, T_y). So that: `outputs[i][0], ..., outputs[i][Ty]` represent the true labels (characters) corresponding to the $i^{th}$ training example (`X[i]`). More generally, `outputs[i][j]` is the true label of the $j^{th}$ character in the $i^{th}$ training example."
   ]
  },
  {
   "cell_type": "code",
   "execution_count": 18,
   "metadata": {},
   "outputs": [],
   "source": [
    "s0 = np.zeros((m, n_s))\n",
    "c0 = np.zeros((m, n_s))\n",
    "outputs = list(Yoh.swapaxes(0,1))"
   ]
  },
  {
   "cell_type": "markdown",
   "metadata": {},
   "source": [
    "Let's now fit the model and run it for one epoch."
   ]
  },
  {
   "cell_type": "code",
   "execution_count": 19,
   "metadata": {},
   "outputs": [
    {
     "name": "stdout",
     "output_type": "stream",
     "text": [
      "Epoch 1/1\n"
     ]
    },
    {
     "name": "stdout",
     "output_type": "stream",
     "text": [
      " 1600/10000 [===>..........................] - ETA: 528s - loss: 24.0660 - dense_3_loss_1: 2.3972 - dense_3_loss_2: 2.4150 - dense_3_loss_3: 2.3945 - dense_3_loss_4: 2.3966 - dense_3_loss_5: 2.4329 - dense_3_loss_6: 2.3978 - dense_3_loss_7: 2.3916 - dense_3_loss_8: 2.4377 - dense_3_loss_9: 2.4042 - dense_3_loss_10: 2.3986 - dense_3_acc_1: 0.0400 - dense_3_acc_2: 0.0000e+00 - dense_3_acc_3: 0.1200 - dense_3_acc_4: 0.0800 - dense_3_acc_5: 0.0000e+00 - dense_3_acc_6: 0.0000e+00 - dense_3_acc_7: 0.1700 - dense_3_acc_8: 0.0000e+00 - dense_3_acc_9: 0.0100 - dense_3_acc_10: 0.06 - ETA: 272s - loss: 23.8705 - dense_3_loss_1: 2.3921 - dense_3_loss_2: 2.4057 - dense_3_loss_3: 2.3943 - dense_3_loss_4: 2.3977 - dense_3_loss_5: 2.3673 - dense_3_loss_6: 2.3633 - dense_3_loss_7: 2.3976 - dense_3_loss_8: 2.3597 - dense_3_loss_9: 2.3896 - dense_3_loss_10: 2.4032 - dense_3_acc_1: 0.0200 - dense_3_acc_2: 0.0450 - dense_3_acc_3: 0.0850 - dense_3_acc_4: 0.0550 - dense_3_acc_5: 0.4400 - dense_3_acc_6: 0.0350 - dense_3_acc_7: 0.0950 - dense_3_acc_8: 0.4400 - dense_3_acc_9: 0.0150 - dense_3_acc_10: 0.0500               - ETA: 186s - loss: 23.6623 - dense_3_loss_1: 2.3876 - dense_3_loss_2: 2.3945 - dense_3_loss_3: 2.3920 - dense_3_loss_4: 2.4020 - dense_3_loss_5: 2.2994 - dense_3_loss_6: 2.3295 - dense_3_loss_7: 2.3995 - dense_3_loss_8: 2.2768 - dense_3_loss_9: 2.3683 - dense_3_loss_10: 2.4128 - dense_3_acc_1: 0.0133 - dense_3_acc_2: 0.0300 - dense_3_acc_3: 0.0567 - dense_3_acc_4: 0.0367 - dense_3_acc_5: 0.6267 - dense_3_acc_6: 0.0233 - dense_3_acc_7: 0.0633 - dense_3_acc_8: 0.6267 - dense_3_acc_9: 0.0100 - dense_3_acc_10: 0.03 - ETA: 143s - loss: 23.4371 - dense_3_loss_1: 2.3806 - dense_3_loss_2: 2.3909 - dense_3_loss_3: 2.3951 - dense_3_loss_4: 2.4080 - dense_3_loss_5: 2.2226 - dense_3_loss_6: 2.2864 - dense_3_loss_7: 2.4078 - dense_3_loss_8: 2.1780 - dense_3_loss_9: 2.3303 - dense_3_loss_10: 2.4374 - dense_3_acc_1: 0.0100 - dense_3_acc_2: 0.0225 - dense_3_acc_3: 0.0425 - dense_3_acc_4: 0.0275 - dense_3_acc_5: 0.7200 - dense_3_acc_6: 0.0175 - dense_3_acc_7: 0.0475 - dense_3_acc_8: 0.7200 - dense_3_acc_9: 0.0075 - dense_3_acc_10: 0.02 - ETA: 117s - loss: 23.1867 - dense_3_loss_1: 2.3728 - dense_3_loss_2: 2.3854 - dense_3_loss_3: 2.4003 - dense_3_loss_4: 2.4280 - dense_3_loss_5: 2.1153 - dense_3_loss_6: 2.2259 - dense_3_loss_7: 2.4466 - dense_3_loss_8: 2.0335 - dense_3_loss_9: 2.2943 - dense_3_loss_10: 2.4847 - dense_3_acc_1: 0.0080 - dense_3_acc_2: 0.0180 - dense_3_acc_3: 0.0340 - dense_3_acc_4: 0.0220 - dense_3_acc_5: 0.7760 - dense_3_acc_6: 0.0140 - dense_3_acc_7: 0.0380 - dense_3_acc_8: 0.7760 - dense_3_acc_9: 0.0060 - dense_3_acc_10: 0.02 - ETA: 100s - loss: 23.0144 - dense_3_loss_1: 2.3620 - dense_3_loss_2: 2.3834 - dense_3_loss_3: 2.4145 - dense_3_loss_4: 2.4593 - dense_3_loss_5: 1.9922 - dense_3_loss_6: 2.1506 - dense_3_loss_7: 2.5088 - dense_3_loss_8: 1.8718 - dense_3_loss_9: 2.2890 - dense_3_loss_10: 2.5828 - dense_3_acc_1: 0.0067 - dense_3_acc_2: 0.0150 - dense_3_acc_3: 0.0283 - dense_3_acc_4: 0.0183 - dense_3_acc_5: 0.8133 - dense_3_acc_6: 0.0117 - dense_3_acc_7: 0.0317 - dense_3_acc_8: 0.8133 - dense_3_acc_9: 0.0050 - dense_3_acc_10: 0.01 - ETA: 88s - loss: 22.9129 - dense_3_loss_1: 2.3513 - dense_3_loss_2: 2.3680 - dense_3_loss_3: 2.4143 - dense_3_loss_4: 2.5069 - dense_3_loss_5: 1.8962 - dense_3_loss_6: 2.0695 - dense_3_loss_7: 2.5935 - dense_3_loss_8: 1.7564 - dense_3_loss_9: 2.2605 - dense_3_loss_10: 2.6962 - dense_3_acc_1: 0.0057 - dense_3_acc_2: 0.0129 - dense_3_acc_3: 0.0243 - dense_3_acc_4: 0.0157 - dense_3_acc_5: 0.8400 - dense_3_acc_6: 0.0100 - dense_3_acc_7: 0.0271 - dense_3_acc_8: 0.8400 - dense_3_acc_9: 0.0043 - dense_3_acc_10: 0.0143 - ETA: 79s - loss: 22.7490 - dense_3_loss_1: 2.3395 - dense_3_loss_2: 2.3530 - dense_3_loss_3: 2.4181 - dense_3_loss_4: 2.5276 - dense_3_loss_5: 1.8371 - dense_3_loss_6: 2.0052 - dense_3_loss_7: 2.6205 - dense_3_loss_8: 1.6920 - dense_3_loss_9: 2.2140 - dense_3_loss_10: 2.7420 - dense_3_acc_1: 0.0050 - dense_3_acc_2: 0.0113 - dense_3_acc_3: 0.0212 - dense_3_acc_4: 0.0137 - dense_3_acc_5: 0.8600 - dense_3_acc_6: 0.0088 - dense_3_acc_7: 0.0238 - dense_3_acc_8: 0.8563 - dense_3_acc_9: 0.0037 - dense_3_acc_10: 0.012 - ETA: 73s - loss: 22.6646 - dense_3_loss_1: 2.3286 - dense_3_loss_2: 2.3359 - dense_3_loss_3: 2.4179 - dense_3_loss_4: 2.5457 - dense_3_loss_5: 1.8093 - dense_3_loss_6: 1.9537 - dense_3_loss_7: 2.6466 - dense_3_loss_8: 1.6669 - dense_3_loss_9: 2.1806 - dense_3_loss_10: 2.7795 - dense_3_acc_1: 0.0044 - dense_3_acc_2: 0.0433 - dense_3_acc_3: 0.0400 - dense_3_acc_4: 0.0267 - dense_3_acc_5: 0.7644 - dense_3_acc_6: 0.0944 - dense_3_acc_7: 0.0278 - dense_3_acc_8: 0.7611 - dense_3_acc_9: 0.0322 - dense_3_acc_10: 0.020 - ETA: 66s - loss: 22.5570 - dense_3_loss_1: 2.3182 - dense_3_loss_2: 2.3206 - dense_3_loss_3: 2.4160 - dense_3_loss_4: 2.5450 - dense_3_loss_5: 1.7959 - dense_3_loss_6: 1.9200 - dense_3_loss_7: 2.6475 - dense_3_loss_8: 1.6592 - dense_3_loss_9: 2.1451 - dense_3_loss_10: 2.7896 - dense_3_acc_1: 0.0040 - dense_3_acc_2: 0.0760 - dense_3_acc_3: 0.0550 - dense_3_acc_4: 0.0360 - dense_3_acc_5: 0.6880 - dense_3_acc_6: 0.1590 - dense_3_acc_7: 0.0360 - dense_3_acc_8: 0.6850 - dense_3_acc_9: 0.0600 - dense_3_acc_10: 0.027 - ETA: 62s - loss: 22.4580 - dense_3_loss_1: 2.3097 - dense_3_loss_2: 2.3042 - dense_3_loss_3: 2.4113 - dense_3_loss_4: 2.5426 - dense_3_loss_5: 1.7877 - dense_3_loss_6: 1.8986 - dense_3_loss_7: 2.6416 - dense_3_loss_8: 1.6568 - dense_3_loss_9: 2.1180 - dense_3_loss_10: 2.7874 - dense_3_acc_1: 0.0091 - dense_3_acc_2: 0.1036 - dense_3_acc_3: 0.0636 - dense_3_acc_4: 0.0427 - dense_3_acc_5: 0.6536 - dense_3_acc_6: 0.1955 - dense_3_acc_7: 0.0382 - dense_3_acc_8: 0.6409 - dense_3_acc_9: 0.0818 - dense_3_acc_10: 0.029 - ETA: 58s - loss: 22.3941 - dense_3_loss_1: 2.3013 - dense_3_loss_2: 2.2878 - dense_3_loss_3: 2.4086 - dense_3_loss_4: 2.5474 - dense_3_loss_5: 1.7768 - dense_3_loss_6: 1.8834 - dense_3_loss_7: 2.6471 - dense_3_loss_8: 1.6506 - dense_3_loss_9: 2.1029 - dense_3_loss_10: 2.7882 - dense_3_acc_1: 0.0150 - dense_3_acc_2: 0.1042 - dense_3_acc_3: 0.0583 - dense_3_acc_4: 0.0392 - dense_3_acc_5: 0.6825 - dense_3_acc_6: 0.1792 - dense_3_acc_7: 0.0350 - dense_3_acc_8: 0.6708 - dense_3_acc_9: 0.0750 - dense_3_acc_10: 0.026 - ETA: 55s - loss: 22.3240 - dense_3_loss_1: 2.2957 - dense_3_loss_2: 2.2692 - dense_3_loss_3: 2.4019 - dense_3_loss_4: 2.5555 - dense_3_loss_5: 1.7622 - dense_3_loss_6: 1.8729 - dense_3_loss_7: 2.6497 - dense_3_loss_8: 1.6393 - dense_3_loss_9: 2.0912 - dense_3_loss_10: 2.7863 - dense_3_acc_1: 0.0185 - dense_3_acc_2: 0.0962 - dense_3_acc_3: 0.0538 - dense_3_acc_4: 0.0362 - dense_3_acc_5: 0.7069 - dense_3_acc_6: 0.1654 - dense_3_acc_7: 0.0323 - dense_3_acc_8: 0.6962 - dense_3_acc_9: 0.0692 - dense_3_acc_10: 0.024 - ETA: 51s - loss: 22.2556 - dense_3_loss_1: 2.2928 - dense_3_loss_2: 2.2496 - dense_3_loss_3: 2.3907 - dense_3_loss_4: 2.5617 - dense_3_loss_5: 1.7427 - dense_3_loss_6: 1.8650 - dense_3_loss_7: 2.6586 - dense_3_loss_8: 1.6217 - dense_3_loss_9: 2.0862 - dense_3_loss_10: 2.7865 - dense_3_acc_1: 0.0171 - dense_3_acc_2: 0.0893 - dense_3_acc_3: 0.0500 - dense_3_acc_4: 0.0336 - dense_3_acc_5: 0.7279 - dense_3_acc_6: 0.1536 - dense_3_acc_7: 0.0300 - dense_3_acc_8: 0.7179 - dense_3_acc_9: 0.0643 - dense_3_acc_10: 0.022 - ETA: 49s - loss: 22.1821 - dense_3_loss_1: 2.2892 - dense_3_loss_2: 2.2298 - dense_3_loss_3: 2.3841 - dense_3_loss_4: 2.5687 - dense_3_loss_5: 1.7174 - dense_3_loss_6: 1.8565 - dense_3_loss_7: 2.6680 - dense_3_loss_8: 1.5981 - dense_3_loss_9: 2.0800 - dense_3_loss_10: 2.7902 - dense_3_acc_1: 0.0160 - dense_3_acc_2: 0.0833 - dense_3_acc_3: 0.0467 - dense_3_acc_4: 0.0313 - dense_3_acc_5: 0.7460 - dense_3_acc_6: 0.1433 - dense_3_acc_7: 0.0280 - dense_3_acc_8: 0.7367 - dense_3_acc_9: 0.0600 - dense_3_acc_10: 0.021 - ETA: 47s - loss: 22.1207 - dense_3_loss_1: 2.2845 - dense_3_loss_2: 2.2111 - dense_3_loss_3: 2.3815 - dense_3_loss_4: 2.5836 - dense_3_loss_5: 1.6909 - dense_3_loss_6: 1.8479 - dense_3_loss_7: 2.6698 - dense_3_loss_8: 1.5737 - dense_3_loss_9: 2.0738 - dense_3_loss_10: 2.8038 - dense_3_acc_1: 0.0150 - dense_3_acc_2: 0.0781 - dense_3_acc_3: 0.0437 - dense_3_acc_4: 0.0294 - dense_3_acc_5: 0.7619 - dense_3_acc_6: 0.1344 - dense_3_acc_7: 0.0262 - dense_3_acc_8: 0.7531 - dense_3_acc_9: 0.0563 - dense_3_acc_10: 0.0200\b\b\b\b\b\b\b\b\b\b\b\b\b\b\b\b\b\b\b\b\b\b\b\b\b\b\b\b\b\b\b\b\b\b\b\b\b\b\b\b\b\b\b\b\b\b\b\b\b\b\b\b\b\b\b\b\b\b\b\b\b\b\b\b\b\b\b\b\b\b\b\b\b\b\b\b\b\b\b\b\b\b\b\b\b\b\b\b\b\b\b\b\b\b\b\b\b\b\b\b\b\b\b\b\b\b\b\b\b\b\b\b\b\b\b\b\b\b\b\b\b\b\b\b\b\b\b\b\b\b\b\b\b\b\b\b\b\b\b\b\b\b\b\b\b\b\b\b\b\b\b\b\b\b\b\b\b\b\b\b\b\b\b\b\b\b\b\b\b\b\b\b\b\b\b\b\b\b\b\b\b\b\b\b\b\b\b\b\b\b\b\b\b\b\b\b\b\b\b\b\b\b\b\b\b\b\b\b\b\b\b\b\b\b\b\b\b\b\b\b\b\b\b\b\b\b\b\b\b\b\b\b\b\b\b\b\b\b\b\b\b\b\b\b\b\b\b\b\b\b\b\b\b\b\b\b\b\b\b\b\b\b\b\b\b\b\b\b\b\b\b\b\b\b\b\b\b\b\b\b\b\b\b\b\b\b\b\b\b\b\b\b\b\b\b\b\b\b\b\b\b\b\b\b\b\b\b\b\b\b\b\b\b\b\b\b\b\b\b\b\b\b\b\b\b\b\b\b\b\b\b\b\b\b\b\b\b\b\b\b\b\b\b\b\b\b\b\b\b\b\b\b\b\b\b\b\b\b\b\b\b\b\b\b\b\b\b\b\b\b\b\b\b\b\b\b\b\b\b\b\b\b\b\b\b\b\b\b\b\b\b\b\b\b\b\b\b\b\b\b\b\b\b\b\b\b\b\b\b\b\b\b\b\b\b\b\b\b\b\b\b\b\b\b\b\b\b\b\b\b\b\b\b\b\b\b\b\b\b\b\b\b\b\b\b\b\b\b\b\b\b\b\b\b\b\b\b\b\b\b\b\b\b\b\b\b\b\b\b\b\b\b\b\b\b\b\b\b\b\b\b\b\b\b\b\b\b\b\b\b\b\b\b\b\b\b\b\b\b\b\b\b\b\b\b\b\b\b\b\b\b\b\b\b\b\b\b\b\b\b\b\b\b\b\b\b\b\b\b\b\b\b\b\b\b\b\b\b\b\b\b\b\b\b\b\b\b\b\b\b\b\b\b\b\b\b\b\b\b\b\b\b\b"
     ]
    },
    {
     "name": "stdout",
     "output_type": "stream",
     "text": [
      " 3200/10000 [========>.....................] - ETA: 45s - loss: 22.0783 - dense_3_loss_1: 2.2792 - dense_3_loss_2: 2.1933 - dense_3_loss_3: 2.3797 - dense_3_loss_4: 2.6028 - dense_3_loss_5: 1.6665 - dense_3_loss_6: 1.8381 - dense_3_loss_7: 2.6784 - dense_3_loss_8: 1.5520 - dense_3_loss_9: 2.0728 - dense_3_loss_10: 2.8155 - dense_3_acc_1: 0.0141 - dense_3_acc_2: 0.0765 - dense_3_acc_3: 0.0412 - dense_3_acc_4: 0.0276 - dense_3_acc_5: 0.7759 - dense_3_acc_6: 0.1265 - dense_3_acc_7: 0.0247 - dense_3_acc_8: 0.7676 - dense_3_acc_9: 0.0529 - dense_3_acc_10: 0.018 - ETA: 43s - loss: 22.0137 - dense_3_loss_1: 2.2748 - dense_3_loss_2: 2.1749 - dense_3_loss_3: 2.3739 - dense_3_loss_4: 2.6136 - dense_3_loss_5: 1.6454 - dense_3_loss_6: 1.8273 - dense_3_loss_7: 2.6867 - dense_3_loss_8: 1.5347 - dense_3_loss_9: 2.0676 - dense_3_loss_10: 2.8147 - dense_3_acc_1: 0.0133 - dense_3_acc_2: 0.0939 - dense_3_acc_3: 0.0389 - dense_3_acc_4: 0.0261 - dense_3_acc_5: 0.7883 - dense_3_acc_6: 0.1194 - dense_3_acc_7: 0.0233 - dense_3_acc_8: 0.7806 - dense_3_acc_9: 0.0500 - dense_3_acc_10: 0.017 - ETA: 41s - loss: 21.9544 - dense_3_loss_1: 2.2712 - dense_3_loss_2: 2.1562 - dense_3_loss_3: 2.3715 - dense_3_loss_4: 2.6261 - dense_3_loss_5: 1.6288 - dense_3_loss_6: 1.8154 - dense_3_loss_7: 2.6895 - dense_3_loss_8: 1.5228 - dense_3_loss_9: 2.0603 - dense_3_loss_10: 2.8126 - dense_3_acc_1: 0.0126 - dense_3_acc_2: 0.1116 - dense_3_acc_3: 0.0426 - dense_3_acc_4: 0.0247 - dense_3_acc_5: 0.7995 - dense_3_acc_6: 0.1132 - dense_3_acc_7: 0.0221 - dense_3_acc_8: 0.7921 - dense_3_acc_9: 0.0474 - dense_3_acc_10: 0.016 - ETA: 40s - loss: 21.9070 - dense_3_loss_1: 2.2668 - dense_3_loss_2: 2.1380 - dense_3_loss_3: 2.3667 - dense_3_loss_4: 2.6423 - dense_3_loss_5: 1.6167 - dense_3_loss_6: 1.8033 - dense_3_loss_7: 2.6894 - dense_3_loss_8: 1.5164 - dense_3_loss_9: 2.0496 - dense_3_loss_10: 2.8180 - dense_3_acc_1: 0.0120 - dense_3_acc_2: 0.1265 - dense_3_acc_3: 0.0455 - dense_3_acc_4: 0.0255 - dense_3_acc_5: 0.8095 - dense_3_acc_6: 0.1075 - dense_3_acc_7: 0.0210 - dense_3_acc_8: 0.8025 - dense_3_acc_9: 0.0450 - dense_3_acc_10: 0.016 - ETA: 38s - loss: 21.8534 - dense_3_loss_1: 2.2630 - dense_3_loss_2: 2.1187 - dense_3_loss_3: 2.3568 - dense_3_loss_4: 2.6583 - dense_3_loss_5: 1.6075 - dense_3_loss_6: 1.7927 - dense_3_loss_7: 2.6849 - dense_3_loss_8: 1.5133 - dense_3_loss_9: 2.0394 - dense_3_loss_10: 2.8188 - dense_3_acc_1: 0.0114 - dense_3_acc_2: 0.1414 - dense_3_acc_3: 0.0529 - dense_3_acc_4: 0.0295 - dense_3_acc_5: 0.8186 - dense_3_acc_6: 0.1024 - dense_3_acc_7: 0.0200 - dense_3_acc_8: 0.8119 - dense_3_acc_9: 0.0429 - dense_3_acc_10: 0.015 - ETA: 37s - loss: 21.8048 - dense_3_loss_1: 2.2590 - dense_3_loss_2: 2.0987 - dense_3_loss_3: 2.3521 - dense_3_loss_4: 2.6689 - dense_3_loss_5: 1.5995 - dense_3_loss_6: 1.7838 - dense_3_loss_7: 2.6820 - dense_3_loss_8: 1.5111 - dense_3_loss_9: 2.0314 - dense_3_loss_10: 2.8183 - dense_3_acc_1: 0.0109 - dense_3_acc_2: 0.1545 - dense_3_acc_3: 0.0568 - dense_3_acc_4: 0.0323 - dense_3_acc_5: 0.8268 - dense_3_acc_6: 0.0977 - dense_3_acc_7: 0.0191 - dense_3_acc_8: 0.8205 - dense_3_acc_9: 0.0409 - dense_3_acc_10: 0.015 - ETA: 36s - loss: 21.7540 - dense_3_loss_1: 2.2566 - dense_3_loss_2: 2.0772 - dense_3_loss_3: 2.3436 - dense_3_loss_4: 2.6791 - dense_3_loss_5: 1.5911 - dense_3_loss_6: 1.7764 - dense_3_loss_7: 2.6838 - dense_3_loss_8: 1.5065 - dense_3_loss_9: 2.0254 - dense_3_loss_10: 2.8143 - dense_3_acc_1: 0.0104 - dense_3_acc_2: 0.1774 - dense_3_acc_3: 0.0652 - dense_3_acc_4: 0.0365 - dense_3_acc_5: 0.8343 - dense_3_acc_6: 0.0935 - dense_3_acc_7: 0.0183 - dense_3_acc_8: 0.8283 - dense_3_acc_9: 0.0391 - dense_3_acc_10: 0.014 - ETA: 34s - loss: 21.7059 - dense_3_loss_1: 2.2541 - dense_3_loss_2: 2.0553 - dense_3_loss_3: 2.3374 - dense_3_loss_4: 2.6889 - dense_3_loss_5: 1.5824 - dense_3_loss_6: 1.7691 - dense_3_loss_7: 2.6832 - dense_3_loss_8: 1.5010 - dense_3_loss_9: 2.0205 - dense_3_loss_10: 2.8139 - dense_3_acc_1: 0.0100 - dense_3_acc_2: 0.2004 - dense_3_acc_3: 0.0729 - dense_3_acc_4: 0.0396 - dense_3_acc_5: 0.8408 - dense_3_acc_6: 0.0896 - dense_3_acc_7: 0.0175 - dense_3_acc_8: 0.8354 - dense_3_acc_9: 0.0375 - dense_3_acc_10: 0.014 - ETA: 33s - loss: 21.6607 - dense_3_loss_1: 2.2500 - dense_3_loss_2: 2.0329 - dense_3_loss_3: 2.3282 - dense_3_loss_4: 2.7004 - dense_3_loss_5: 1.5730 - dense_3_loss_6: 1.7628 - dense_3_loss_7: 2.6875 - dense_3_loss_8: 1.4953 - dense_3_loss_9: 2.0147 - dense_3_loss_10: 2.8158 - dense_3_acc_1: 0.0096 - dense_3_acc_2: 0.2236 - dense_3_acc_3: 0.0788 - dense_3_acc_4: 0.0432 - dense_3_acc_5: 0.8444 - dense_3_acc_6: 0.0860 - dense_3_acc_7: 0.0168 - dense_3_acc_8: 0.8420 - dense_3_acc_9: 0.0360 - dense_3_acc_10: 0.013 - ETA: 32s - loss: 21.6130 - dense_3_loss_1: 2.2470 - dense_3_loss_2: 2.0110 - dense_3_loss_3: 2.3198 - dense_3_loss_4: 2.7124 - dense_3_loss_5: 1.5624 - dense_3_loss_6: 1.7588 - dense_3_loss_7: 2.6837 - dense_3_loss_8: 1.4912 - dense_3_loss_9: 2.0117 - dense_3_loss_10: 2.8149 - dense_3_acc_1: 0.0092 - dense_3_acc_2: 0.2462 - dense_3_acc_3: 0.0858 - dense_3_acc_4: 0.0465 - dense_3_acc_5: 0.8500 - dense_3_acc_6: 0.0827 - dense_3_acc_7: 0.0162 - dense_3_acc_8: 0.8481 - dense_3_acc_9: 0.0346 - dense_3_acc_10: 0.013 - ETA: 31s - loss: 21.5533 - dense_3_loss_1: 2.2442 - dense_3_loss_2: 1.9894 - dense_3_loss_3: 2.3156 - dense_3_loss_4: 2.7140 - dense_3_loss_5: 1.5504 - dense_3_loss_6: 1.7579 - dense_3_loss_7: 2.6791 - dense_3_loss_8: 1.4882 - dense_3_loss_9: 2.0076 - dense_3_loss_10: 2.8069 - dense_3_acc_1: 0.0089 - dense_3_acc_2: 0.2656 - dense_3_acc_3: 0.0889 - dense_3_acc_4: 0.0515 - dense_3_acc_5: 0.8556 - dense_3_acc_6: 0.0796 - dense_3_acc_7: 0.0156 - dense_3_acc_8: 0.8537 - dense_3_acc_9: 0.0333 - dense_3_acc_10: 0.014 - ETA: 30s - loss: 21.5068 - dense_3_loss_1: 2.2408 - dense_3_loss_2: 1.9668 - dense_3_loss_3: 2.3118 - dense_3_loss_4: 2.7247 - dense_3_loss_5: 1.5364 - dense_3_loss_6: 1.7550 - dense_3_loss_7: 2.6828 - dense_3_loss_8: 1.4834 - dense_3_loss_9: 2.0043 - dense_3_loss_10: 2.8007 - dense_3_acc_1: 0.0086 - dense_3_acc_2: 0.2843 - dense_3_acc_3: 0.0932 - dense_3_acc_4: 0.0536 - dense_3_acc_5: 0.8607 - dense_3_acc_6: 0.0768 - dense_3_acc_7: 0.0150 - dense_3_acc_8: 0.8589 - dense_3_acc_9: 0.0321 - dense_3_acc_10: 0.016 - ETA: 30s - loss: 21.4570 - dense_3_loss_1: 2.2359 - dense_3_loss_2: 1.9427 - dense_3_loss_3: 2.3039 - dense_3_loss_4: 2.7371 - dense_3_loss_5: 1.5212 - dense_3_loss_6: 1.7540 - dense_3_loss_7: 2.6862 - dense_3_loss_8: 1.4723 - dense_3_loss_9: 2.0040 - dense_3_loss_10: 2.7996 - dense_3_acc_1: 0.0083 - dense_3_acc_2: 0.2955 - dense_3_acc_3: 0.1031 - dense_3_acc_4: 0.0562 - dense_3_acc_5: 0.8655 - dense_3_acc_6: 0.0741 - dense_3_acc_7: 0.0145 - dense_3_acc_8: 0.8638 - dense_3_acc_9: 0.0310 - dense_3_acc_10: 0.015 - ETA: 29s - loss: 21.4150 - dense_3_loss_1: 2.2286 - dense_3_loss_2: 1.9181 - dense_3_loss_3: 2.3063 - dense_3_loss_4: 2.7478 - dense_3_loss_5: 1.5072 - dense_3_loss_6: 1.7520 - dense_3_loss_7: 2.6926 - dense_3_loss_8: 1.4592 - dense_3_loss_9: 2.0057 - dense_3_loss_10: 2.7977 - dense_3_acc_1: 0.0080 - dense_3_acc_2: 0.3073 - dense_3_acc_3: 0.1077 - dense_3_acc_4: 0.0590 - dense_3_acc_5: 0.8700 - dense_3_acc_6: 0.0717 - dense_3_acc_7: 0.0140 - dense_3_acc_8: 0.8683 - dense_3_acc_9: 0.0300 - dense_3_acc_10: 0.015 - ETA: 28s - loss: 21.3672 - dense_3_loss_1: 2.2234 - dense_3_loss_2: 1.8970 - dense_3_loss_3: 2.3027 - dense_3_loss_4: 2.7549 - dense_3_loss_5: 1.4955 - dense_3_loss_6: 1.7496 - dense_3_loss_7: 2.6962 - dense_3_loss_8: 1.4563 - dense_3_loss_9: 2.0016 - dense_3_loss_10: 2.7902 - dense_3_acc_1: 0.0077 - dense_3_acc_2: 0.3184 - dense_3_acc_3: 0.1126 - dense_3_acc_4: 0.0613 - dense_3_acc_5: 0.8713 - dense_3_acc_6: 0.0694 - dense_3_acc_7: 0.0135 - dense_3_acc_8: 0.8726 - dense_3_acc_9: 0.0326 - dense_3_acc_10: 0.020 - ETA: 28s - loss: 21.3200 - dense_3_loss_1: 2.2168 - dense_3_loss_2: 1.8776 - dense_3_loss_3: 2.2911 - dense_3_loss_4: 2.7620 - dense_3_loss_5: 1.4871 - dense_3_loss_6: 1.7457 - dense_3_loss_7: 2.6948 - dense_3_loss_8: 1.4625 - dense_3_loss_9: 1.9931 - dense_3_loss_10: 2.7892 - dense_3_acc_1: 0.0075 - dense_3_acc_2: 0.3319 - dense_3_acc_3: 0.1197 - dense_3_acc_4: 0.0612 - dense_3_acc_5: 0.8666 - dense_3_acc_6: 0.0672 - dense_3_acc_7: 0.0131 - dense_3_acc_8: 0.8625 - dense_3_acc_9: 0.0450 - dense_3_acc_10: 0.0238"
     ]
    },
    {
     "name": "stdout",
     "output_type": "stream",
     "text": [
      " 4800/10000 [=============>................] - ETA: 27s - loss: 21.2673 - dense_3_loss_1: 2.2053 - dense_3_loss_2: 1.8584 - dense_3_loss_3: 2.2870 - dense_3_loss_4: 2.7646 - dense_3_loss_5: 1.4783 - dense_3_loss_6: 1.7418 - dense_3_loss_7: 2.6977 - dense_3_loss_8: 1.4650 - dense_3_loss_9: 1.9860 - dense_3_loss_10: 2.7831 - dense_3_acc_1: 0.0073 - dense_3_acc_2: 0.3458 - dense_3_acc_3: 0.1239 - dense_3_acc_4: 0.0636 - dense_3_acc_5: 0.8645 - dense_3_acc_6: 0.0652 - dense_3_acc_7: 0.0127 - dense_3_acc_8: 0.8630 - dense_3_acc_9: 0.0558 - dense_3_acc_10: 0.027 - ETA: 26s - loss: 21.2096 - dense_3_loss_1: 2.1967 - dense_3_loss_2: 1.8410 - dense_3_loss_3: 2.2749 - dense_3_loss_4: 2.7683 - dense_3_loss_5: 1.4687 - dense_3_loss_6: 1.7362 - dense_3_loss_7: 2.7034 - dense_3_loss_8: 1.4568 - dense_3_loss_9: 1.9842 - dense_3_loss_10: 2.7794 - dense_3_acc_1: 0.0071 - dense_3_acc_2: 0.3562 - dense_3_acc_3: 0.1300 - dense_3_acc_4: 0.0653 - dense_3_acc_5: 0.8600 - dense_3_acc_6: 0.0647 - dense_3_acc_7: 0.0124 - dense_3_acc_8: 0.8671 - dense_3_acc_9: 0.0541 - dense_3_acc_10: 0.031 - ETA: 25s - loss: 21.1579 - dense_3_loss_1: 2.1848 - dense_3_loss_2: 1.8221 - dense_3_loss_3: 2.2651 - dense_3_loss_4: 2.7706 - dense_3_loss_5: 1.4589 - dense_3_loss_6: 1.7312 - dense_3_loss_7: 2.7134 - dense_3_loss_8: 1.4441 - dense_3_loss_9: 1.9865 - dense_3_loss_10: 2.7813 - dense_3_acc_1: 0.0069 - dense_3_acc_2: 0.3677 - dense_3_acc_3: 0.1351 - dense_3_acc_4: 0.0703 - dense_3_acc_5: 0.8560 - dense_3_acc_6: 0.0651 - dense_3_acc_7: 0.0123 - dense_3_acc_8: 0.8700 - dense_3_acc_9: 0.0526 - dense_3_acc_10: 0.032 - ETA: 25s - loss: 21.1030 - dense_3_loss_1: 2.1734 - dense_3_loss_2: 1.8044 - dense_3_loss_3: 2.2533 - dense_3_loss_4: 2.7785 - dense_3_loss_5: 1.4494 - dense_3_loss_6: 1.7242 - dense_3_loss_7: 2.7171 - dense_3_loss_8: 1.4408 - dense_3_loss_9: 1.9811 - dense_3_loss_10: 2.7810 - dense_3_acc_1: 0.0072 - dense_3_acc_2: 0.3800 - dense_3_acc_3: 0.1417 - dense_3_acc_4: 0.0714 - dense_3_acc_5: 0.8472 - dense_3_acc_6: 0.0664 - dense_3_acc_7: 0.0119 - dense_3_acc_8: 0.8675 - dense_3_acc_9: 0.0594 - dense_3_acc_10: 0.034 - ETA: 24s - loss: 21.0501 - dense_3_loss_1: 2.1598 - dense_3_loss_2: 1.7891 - dense_3_loss_3: 2.2456 - dense_3_loss_4: 2.7861 - dense_3_loss_5: 1.4391 - dense_3_loss_6: 1.7211 - dense_3_loss_7: 2.7168 - dense_3_loss_8: 1.4445 - dense_3_loss_9: 1.9721 - dense_3_loss_10: 2.7760 - dense_3_acc_1: 0.0143 - dense_3_acc_2: 0.3900 - dense_3_acc_3: 0.1459 - dense_3_acc_4: 0.0719 - dense_3_acc_5: 0.8451 - dense_3_acc_6: 0.0649 - dense_3_acc_7: 0.0116 - dense_3_acc_8: 0.8535 - dense_3_acc_9: 0.0719 - dense_3_acc_10: 0.037 - ETA: 23s - loss: 20.9961 - dense_3_loss_1: 2.1471 - dense_3_loss_2: 1.7728 - dense_3_loss_3: 2.2338 - dense_3_loss_4: 2.7877 - dense_3_loss_5: 1.4257 - dense_3_loss_6: 1.7219 - dense_3_loss_7: 2.7231 - dense_3_loss_8: 1.4465 - dense_3_loss_9: 1.9666 - dense_3_loss_10: 2.7708 - dense_3_acc_1: 0.0147 - dense_3_acc_2: 0.4024 - dense_3_acc_3: 0.1526 - dense_3_acc_4: 0.0721 - dense_3_acc_5: 0.8492 - dense_3_acc_6: 0.0632 - dense_3_acc_7: 0.0113 - dense_3_acc_8: 0.8442 - dense_3_acc_9: 0.0824 - dense_3_acc_10: 0.039 - ETA: 23s - loss: 20.9457 - dense_3_loss_1: 2.1322 - dense_3_loss_2: 1.7561 - dense_3_loss_3: 2.2275 - dense_3_loss_4: 2.7912 - dense_3_loss_5: 1.4097 - dense_3_loss_6: 1.7255 - dense_3_loss_7: 2.7273 - dense_3_loss_8: 1.4418 - dense_3_loss_9: 1.9656 - dense_3_loss_10: 2.7688 - dense_3_acc_1: 0.0144 - dense_3_acc_2: 0.4126 - dense_3_acc_3: 0.1549 - dense_3_acc_4: 0.0713 - dense_3_acc_5: 0.8531 - dense_3_acc_6: 0.0615 - dense_3_acc_7: 0.0110 - dense_3_acc_8: 0.8482 - dense_3_acc_9: 0.0877 - dense_3_acc_10: 0.042 - ETA: 22s - loss: 20.8902 - dense_3_loss_1: 2.1183 - dense_3_loss_2: 1.7382 - dense_3_loss_3: 2.2154 - dense_3_loss_4: 2.7951 - dense_3_loss_5: 1.3935 - dense_3_loss_6: 1.7296 - dense_3_loss_7: 2.7335 - dense_3_loss_8: 1.4326 - dense_3_loss_9: 1.9656 - dense_3_loss_10: 2.7684 - dense_3_acc_1: 0.0140 - dense_3_acc_2: 0.4243 - dense_3_acc_3: 0.1615 - dense_3_acc_4: 0.0727 - dense_3_acc_5: 0.8568 - dense_3_acc_6: 0.0600 - dense_3_acc_7: 0.0107 - dense_3_acc_8: 0.8520 - dense_3_acc_9: 0.0868 - dense_3_acc_10: 0.045 - ETA: 22s - loss: 20.8381 - dense_3_loss_1: 2.1042 - dense_3_loss_2: 1.7203 - dense_3_loss_3: 2.2028 - dense_3_loss_4: 2.8029 - dense_3_loss_5: 1.3794 - dense_3_loss_6: 1.7332 - dense_3_loss_7: 2.7408 - dense_3_loss_8: 1.4251 - dense_3_loss_9: 1.9644 - dense_3_loss_10: 2.7651 - dense_3_acc_1: 0.0137 - dense_3_acc_2: 0.4344 - dense_3_acc_3: 0.1671 - dense_3_acc_4: 0.0732 - dense_3_acc_5: 0.8602 - dense_3_acc_6: 0.0585 - dense_3_acc_7: 0.0105 - dense_3_acc_8: 0.8537 - dense_3_acc_9: 0.0878 - dense_3_acc_10: 0.047 - ETA: 21s - loss: 20.7856 - dense_3_loss_1: 2.0890 - dense_3_loss_2: 1.7038 - dense_3_loss_3: 2.1935 - dense_3_loss_4: 2.8046 - dense_3_loss_5: 1.3678 - dense_3_loss_6: 1.7363 - dense_3_loss_7: 2.7446 - dense_3_loss_8: 1.4208 - dense_3_loss_9: 1.9625 - dense_3_loss_10: 2.7626 - dense_3_acc_1: 0.0133 - dense_3_acc_2: 0.4421 - dense_3_acc_3: 0.1700 - dense_3_acc_4: 0.0745 - dense_3_acc_5: 0.8636 - dense_3_acc_6: 0.0571 - dense_3_acc_7: 0.0102 - dense_3_acc_8: 0.8543 - dense_3_acc_9: 0.0886 - dense_3_acc_10: 0.049 - ETA: 20s - loss: 20.7308 - dense_3_loss_1: 2.0737 - dense_3_loss_2: 1.6870 - dense_3_loss_3: 2.1839 - dense_3_loss_4: 2.8077 - dense_3_loss_5: 1.3594 - dense_3_loss_6: 1.7348 - dense_3_loss_7: 2.7429 - dense_3_loss_8: 1.4266 - dense_3_loss_9: 1.9558 - dense_3_loss_10: 2.7590 - dense_3_acc_1: 0.0172 - dense_3_acc_2: 0.4523 - dense_3_acc_3: 0.1735 - dense_3_acc_4: 0.0749 - dense_3_acc_5: 0.8628 - dense_3_acc_6: 0.0586 - dense_3_acc_7: 0.0107 - dense_3_acc_8: 0.8442 - dense_3_acc_9: 0.0974 - dense_3_acc_10: 0.051 - ETA: 20s - loss: 20.6764 - dense_3_loss_1: 2.0572 - dense_3_loss_2: 1.6701 - dense_3_loss_3: 2.1728 - dense_3_loss_4: 2.8114 - dense_3_loss_5: 1.3517 - dense_3_loss_6: 1.7338 - dense_3_loss_7: 2.7400 - dense_3_loss_8: 1.4344 - dense_3_loss_9: 1.9491 - dense_3_loss_10: 2.7559 - dense_3_acc_1: 0.0257 - dense_3_acc_2: 0.4618 - dense_3_acc_3: 0.1782 - dense_3_acc_4: 0.0748 - dense_3_acc_5: 0.8627 - dense_3_acc_6: 0.0602 - dense_3_acc_7: 0.0111 - dense_3_acc_8: 0.8250 - dense_3_acc_9: 0.1036 - dense_3_acc_10: 0.052 - ETA: 19s - loss: 20.6261 - dense_3_loss_1: 2.0410 - dense_3_loss_2: 1.6551 - dense_3_loss_3: 2.1649 - dense_3_loss_4: 2.8119 - dense_3_loss_5: 1.3427 - dense_3_loss_6: 1.7320 - dense_3_loss_7: 2.7412 - dense_3_loss_8: 1.4375 - dense_3_loss_9: 1.9466 - dense_3_loss_10: 2.7533 - dense_3_acc_1: 0.0391 - dense_3_acc_2: 0.4698 - dense_3_acc_3: 0.1802 - dense_3_acc_4: 0.0751 - dense_3_acc_5: 0.8649 - dense_3_acc_6: 0.0593 - dense_3_acc_7: 0.0120 - dense_3_acc_8: 0.8127 - dense_3_acc_9: 0.1069 - dense_3_acc_10: 0.053 - ETA: 19s - loss: 20.5783 - dense_3_loss_1: 2.0246 - dense_3_loss_2: 1.6409 - dense_3_loss_3: 2.1533 - dense_3_loss_4: 2.8190 - dense_3_loss_5: 1.3318 - dense_3_loss_6: 1.7301 - dense_3_loss_7: 2.7462 - dense_3_loss_8: 1.4332 - dense_3_loss_9: 1.9457 - dense_3_loss_10: 2.7534 - dense_3_acc_1: 0.0515 - dense_3_acc_2: 0.4767 - dense_3_acc_3: 0.1846 - dense_3_acc_4: 0.0741 - dense_3_acc_5: 0.8678 - dense_3_acc_6: 0.0580 - dense_3_acc_7: 0.0117 - dense_3_acc_8: 0.8157 - dense_3_acc_9: 0.1100 - dense_3_acc_10: 0.053 - ETA: 18s - loss: 20.5207 - dense_3_loss_1: 2.0070 - dense_3_loss_2: 1.6249 - dense_3_loss_3: 2.1425 - dense_3_loss_4: 2.8245 - dense_3_loss_5: 1.3201 - dense_3_loss_6: 1.7284 - dense_3_loss_7: 2.7523 - dense_3_loss_8: 1.4260 - dense_3_loss_9: 1.9444 - dense_3_loss_10: 2.7506 - dense_3_acc_1: 0.0649 - dense_3_acc_2: 0.4851 - dense_3_acc_3: 0.1879 - dense_3_acc_4: 0.0736 - dense_3_acc_5: 0.8706 - dense_3_acc_6: 0.0568 - dense_3_acc_7: 0.0115 - dense_3_acc_8: 0.8196 - dense_3_acc_9: 0.1081 - dense_3_acc_10: 0.057 - ETA: 18s - loss: 20.4565 - dense_3_loss_1: 1.9872 - dense_3_loss_2: 1.6082 - dense_3_loss_3: 2.1294 - dense_3_loss_4: 2.8254 - dense_3_loss_5: 1.3089 - dense_3_loss_6: 1.7272 - dense_3_loss_7: 2.7575 - dense_3_loss_8: 1.4205 - dense_3_loss_9: 1.9428 - dense_3_loss_10: 2.7494 - dense_3_acc_1: 0.0825 - dense_3_acc_2: 0.4950 - dense_3_acc_3: 0.1931 - dense_3_acc_4: 0.0740 - dense_3_acc_5: 0.8733 - dense_3_acc_6: 0.0556 - dense_3_acc_7: 0.0112 - dense_3_acc_8: 0.8233 - dense_3_acc_9: 0.1090 - dense_3_acc_10: 0.0583"
     ]
    },
    {
     "name": "stdout",
     "output_type": "stream",
     "text": [
      " 6400/10000 [==================>...........] - ETA: 17s - loss: 20.3983 - dense_3_loss_1: 1.9675 - dense_3_loss_2: 1.5929 - dense_3_loss_3: 2.1166 - dense_3_loss_4: 2.8309 - dense_3_loss_5: 1.2981 - dense_3_loss_6: 1.7268 - dense_3_loss_7: 2.7593 - dense_3_loss_8: 1.4191 - dense_3_loss_9: 1.9375 - dense_3_loss_10: 2.7496 - dense_3_acc_1: 0.0986 - dense_3_acc_2: 0.5031 - dense_3_acc_3: 0.1976 - dense_3_acc_4: 0.0733 - dense_3_acc_5: 0.8759 - dense_3_acc_6: 0.0545 - dense_3_acc_7: 0.0110 - dense_3_acc_8: 0.8241 - dense_3_acc_9: 0.1151 - dense_3_acc_10: 0.059 - ETA: 17s - loss: 20.3435 - dense_3_loss_1: 1.9475 - dense_3_loss_2: 1.5778 - dense_3_loss_3: 2.1077 - dense_3_loss_4: 2.8332 - dense_3_loss_5: 1.2874 - dense_3_loss_6: 1.7278 - dense_3_loss_7: 2.7600 - dense_3_loss_8: 1.4215 - dense_3_loss_9: 1.9321 - dense_3_loss_10: 2.7485 - dense_3_acc_1: 0.1132 - dense_3_acc_2: 0.5106 - dense_3_acc_3: 0.1986 - dense_3_acc_4: 0.0734 - dense_3_acc_5: 0.8784 - dense_3_acc_6: 0.0534 - dense_3_acc_7: 0.0108 - dense_3_acc_8: 0.8146 - dense_3_acc_9: 0.1206 - dense_3_acc_10: 0.060 - ETA: 16s - loss: 20.2862 - dense_3_loss_1: 1.9272 - dense_3_loss_2: 1.5629 - dense_3_loss_3: 2.0957 - dense_3_loss_4: 2.8369 - dense_3_loss_5: 1.2764 - dense_3_loss_6: 1.7287 - dense_3_loss_7: 2.7616 - dense_3_loss_8: 1.4235 - dense_3_loss_9: 1.9274 - dense_3_loss_10: 2.7459 - dense_3_acc_1: 0.1276 - dense_3_acc_2: 0.5180 - dense_3_acc_3: 0.2025 - dense_3_acc_4: 0.0725 - dense_3_acc_5: 0.8808 - dense_3_acc_6: 0.0524 - dense_3_acc_7: 0.0106 - dense_3_acc_8: 0.8100 - dense_3_acc_9: 0.1259 - dense_3_acc_10: 0.062 - ETA: 16s - loss: 20.2276 - dense_3_loss_1: 1.9067 - dense_3_loss_2: 1.5479 - dense_3_loss_3: 2.0845 - dense_3_loss_4: 2.8377 - dense_3_loss_5: 1.2659 - dense_3_loss_6: 1.7287 - dense_3_loss_7: 2.7656 - dense_3_loss_8: 1.4213 - dense_3_loss_9: 1.9244 - dense_3_loss_10: 2.7447 - dense_3_acc_1: 0.1425 - dense_3_acc_2: 0.5254 - dense_3_acc_3: 0.2063 - dense_3_acc_4: 0.0731 - dense_3_acc_5: 0.8831 - dense_3_acc_6: 0.0513 - dense_3_acc_7: 0.0104 - dense_3_acc_8: 0.8127 - dense_3_acc_9: 0.1287 - dense_3_acc_10: 0.064 - ETA: 16s - loss: 20.1630 - dense_3_loss_1: 1.8854 - dense_3_loss_2: 1.5313 - dense_3_loss_3: 2.0733 - dense_3_loss_4: 2.8384 - dense_3_loss_5: 1.2554 - dense_3_loss_6: 1.7294 - dense_3_loss_7: 2.7671 - dense_3_loss_8: 1.4149 - dense_3_loss_9: 1.9233 - dense_3_loss_10: 2.7445 - dense_3_acc_1: 0.1568 - dense_3_acc_2: 0.5328 - dense_3_acc_3: 0.2100 - dense_3_acc_4: 0.0736 - dense_3_acc_5: 0.8849 - dense_3_acc_6: 0.0504 - dense_3_acc_7: 0.0102 - dense_3_acc_8: 0.8162 - dense_3_acc_9: 0.1272 - dense_3_acc_10: 0.064 - ETA: 15s - loss: 20.1011 - dense_3_loss_1: 1.8642 - dense_3_loss_2: 1.5153 - dense_3_loss_3: 2.0608 - dense_3_loss_4: 2.8409 - dense_3_loss_5: 1.2451 - dense_3_loss_6: 1.7277 - dense_3_loss_7: 2.7705 - dense_3_loss_8: 1.4104 - dense_3_loss_9: 1.9209 - dense_3_loss_10: 2.7453 - dense_3_acc_1: 0.1711 - dense_3_acc_2: 0.5404 - dense_3_acc_3: 0.2137 - dense_3_acc_4: 0.0728 - dense_3_acc_5: 0.8870 - dense_3_acc_6: 0.0494 - dense_3_acc_7: 0.0100 - dense_3_acc_8: 0.8196 - dense_3_acc_9: 0.1261 - dense_3_acc_10: 0.066 - ETA: 15s - loss: 20.0389 - dense_3_loss_1: 1.8428 - dense_3_loss_2: 1.5007 - dense_3_loss_3: 2.0493 - dense_3_loss_4: 2.8402 - dense_3_loss_5: 1.2368 - dense_3_loss_6: 1.7231 - dense_3_loss_7: 2.7746 - dense_3_loss_8: 1.4090 - dense_3_loss_9: 1.9185 - dense_3_loss_10: 2.7440 - dense_3_acc_1: 0.1847 - dense_3_acc_2: 0.5476 - dense_3_acc_3: 0.2176 - dense_3_acc_4: 0.0733 - dense_3_acc_5: 0.8891 - dense_3_acc_6: 0.0485 - dense_3_acc_7: 0.0098 - dense_3_acc_8: 0.8204 - dense_3_acc_9: 0.1287 - dense_3_acc_10: 0.066 - ETA: 14s - loss: 19.9702 - dense_3_loss_1: 1.8203 - dense_3_loss_2: 1.4839 - dense_3_loss_3: 2.0375 - dense_3_loss_4: 2.8373 - dense_3_loss_5: 1.2293 - dense_3_loss_6: 1.7189 - dense_3_loss_7: 2.7766 - dense_3_loss_8: 1.4100 - dense_3_loss_9: 1.9159 - dense_3_loss_10: 2.7405 - dense_3_acc_1: 0.1984 - dense_3_acc_2: 0.5554 - dense_3_acc_3: 0.2207 - dense_3_acc_4: 0.0734 - dense_3_acc_5: 0.8909 - dense_3_acc_6: 0.0477 - dense_3_acc_7: 0.0096 - dense_3_acc_8: 0.8166 - dense_3_acc_9: 0.1321 - dense_3_acc_10: 0.067 - ETA: 14s - loss: 19.9081 - dense_3_loss_1: 1.7988 - dense_3_loss_2: 1.4691 - dense_3_loss_3: 2.0256 - dense_3_loss_4: 2.8362 - dense_3_loss_5: 1.2223 - dense_3_loss_6: 1.7139 - dense_3_loss_7: 2.7779 - dense_3_loss_8: 1.4118 - dense_3_loss_9: 1.9143 - dense_3_loss_10: 2.7383 - dense_3_acc_1: 0.2100 - dense_3_acc_2: 0.5616 - dense_3_acc_3: 0.2244 - dense_3_acc_4: 0.0739 - dense_3_acc_5: 0.8919 - dense_3_acc_6: 0.0470 - dense_3_acc_7: 0.0102 - dense_3_acc_8: 0.8125 - dense_3_acc_9: 0.1356 - dense_3_acc_10: 0.068 - ETA: 13s - loss: 19.8368 - dense_3_loss_1: 1.7770 - dense_3_loss_2: 1.4535 - dense_3_loss_3: 2.0133 - dense_3_loss_4: 2.8287 - dense_3_loss_5: 1.2157 - dense_3_loss_6: 1.7102 - dense_3_loss_7: 2.7769 - dense_3_loss_8: 1.4121 - dense_3_loss_9: 1.9115 - dense_3_loss_10: 2.7380 - dense_3_acc_1: 0.2228 - dense_3_acc_2: 0.5686 - dense_3_acc_3: 0.2283 - dense_3_acc_4: 0.0760 - dense_3_acc_5: 0.8924 - dense_3_acc_6: 0.0462 - dense_3_acc_7: 0.0105 - dense_3_acc_8: 0.8093 - dense_3_acc_9: 0.1409 - dense_3_acc_10: 0.069 - ETA: 13s - loss: 19.7723 - dense_3_loss_1: 1.7560 - dense_3_loss_2: 1.4395 - dense_3_loss_3: 2.0036 - dense_3_loss_4: 2.8278 - dense_3_loss_5: 1.2054 - dense_3_loss_6: 1.7061 - dense_3_loss_7: 2.7800 - dense_3_loss_8: 1.4103 - dense_3_loss_9: 1.9088 - dense_3_loss_10: 2.7348 - dense_3_acc_1: 0.2341 - dense_3_acc_2: 0.5744 - dense_3_acc_3: 0.2300 - dense_3_acc_4: 0.0759 - dense_3_acc_5: 0.8942 - dense_3_acc_6: 0.0454 - dense_3_acc_7: 0.0103 - dense_3_acc_8: 0.8124 - dense_3_acc_9: 0.1447 - dense_3_acc_10: 0.070 - ETA: 13s - loss: 19.7024 - dense_3_loss_1: 1.7346 - dense_3_loss_2: 1.4243 - dense_3_loss_3: 1.9936 - dense_3_loss_4: 2.8284 - dense_3_loss_5: 1.1938 - dense_3_loss_6: 1.7019 - dense_3_loss_7: 2.7807 - dense_3_loss_8: 1.4060 - dense_3_loss_9: 1.9079 - dense_3_loss_10: 2.7311 - dense_3_acc_1: 0.2457 - dense_3_acc_2: 0.5807 - dense_3_acc_3: 0.2325 - dense_3_acc_4: 0.0755 - dense_3_acc_5: 0.8960 - dense_3_acc_6: 0.0447 - dense_3_acc_7: 0.0102 - dense_3_acc_8: 0.8155 - dense_3_acc_9: 0.1447 - dense_3_acc_10: 0.071 - ETA: 12s - loss: 19.6304 - dense_3_loss_1: 1.7130 - dense_3_loss_2: 1.4076 - dense_3_loss_3: 1.9831 - dense_3_loss_4: 2.8291 - dense_3_loss_5: 1.1813 - dense_3_loss_6: 1.6971 - dense_3_loss_7: 2.7833 - dense_3_loss_8: 1.3996 - dense_3_loss_9: 1.9073 - dense_3_loss_10: 2.7290 - dense_3_acc_1: 0.2575 - dense_3_acc_2: 0.5872 - dense_3_acc_3: 0.2346 - dense_3_acc_4: 0.0751 - dense_3_acc_5: 0.8977 - dense_3_acc_6: 0.0439 - dense_3_acc_7: 0.0100 - dense_3_acc_8: 0.8185 - dense_3_acc_9: 0.1425 - dense_3_acc_10: 0.072 - ETA: 12s - loss: 19.5624 - dense_3_loss_1: 1.6929 - dense_3_loss_2: 1.3924 - dense_3_loss_3: 1.9718 - dense_3_loss_4: 2.8297 - dense_3_loss_5: 1.1687 - dense_3_loss_6: 1.6911 - dense_3_loss_7: 2.7887 - dense_3_loss_8: 1.3933 - dense_3_loss_9: 1.9063 - dense_3_loss_10: 2.7275 - dense_3_acc_1: 0.2685 - dense_3_acc_2: 0.5931 - dense_3_acc_3: 0.2381 - dense_3_acc_4: 0.0755 - dense_3_acc_5: 0.8994 - dense_3_acc_6: 0.0432 - dense_3_acc_7: 0.0098 - dense_3_acc_8: 0.8215 - dense_3_acc_9: 0.1410 - dense_3_acc_10: 0.072 - ETA: 11s - loss: 19.4905 - dense_3_loss_1: 1.6731 - dense_3_loss_2: 1.3774 - dense_3_loss_3: 1.9614 - dense_3_loss_4: 2.8295 - dense_3_loss_5: 1.1569 - dense_3_loss_6: 1.6830 - dense_3_loss_7: 2.7894 - dense_3_loss_8: 1.3893 - dense_3_loss_9: 1.9049 - dense_3_loss_10: 2.7255 - dense_3_acc_1: 0.2787 - dense_3_acc_2: 0.5984 - dense_3_acc_3: 0.2403 - dense_3_acc_4: 0.0752 - dense_3_acc_5: 0.9010 - dense_3_acc_6: 0.0544 - dense_3_acc_7: 0.0097 - dense_3_acc_8: 0.8243 - dense_3_acc_9: 0.1435 - dense_3_acc_10: 0.071 - ETA: 11s - loss: 19.4114 - dense_3_loss_1: 1.6531 - dense_3_loss_2: 1.3615 - dense_3_loss_3: 1.9506 - dense_3_loss_4: 2.8273 - dense_3_loss_5: 1.1460 - dense_3_loss_6: 1.6737 - dense_3_loss_7: 2.7898 - dense_3_loss_8: 1.3857 - dense_3_loss_9: 1.9031 - dense_3_loss_10: 2.7207 - dense_3_acc_1: 0.2891 - dense_3_acc_2: 0.6041 - dense_3_acc_3: 0.2436 - dense_3_acc_4: 0.0752 - dense_3_acc_5: 0.9025 - dense_3_acc_6: 0.0666 - dense_3_acc_7: 0.0111 - dense_3_acc_8: 0.8267 - dense_3_acc_9: 0.1467 - dense_3_acc_10: 0.0725"
     ]
    },
    {
     "name": "stdout",
     "output_type": "stream",
     "text": [
      " 8000/10000 [=======================>......] - ETA: 11s - loss: 19.3326 - dense_3_loss_1: 1.6334 - dense_3_loss_2: 1.3462 - dense_3_loss_3: 1.9426 - dense_3_loss_4: 2.8256 - dense_3_loss_5: 1.1353 - dense_3_loss_6: 1.6633 - dense_3_loss_7: 2.7894 - dense_3_loss_8: 1.3797 - dense_3_loss_9: 1.8991 - dense_3_loss_10: 2.7180 - dense_3_acc_1: 0.2997 - dense_3_acc_2: 0.6089 - dense_3_acc_3: 0.2451 - dense_3_acc_4: 0.0762 - dense_3_acc_5: 0.9040 - dense_3_acc_6: 0.0783 - dense_3_acc_7: 0.0128 - dense_3_acc_8: 0.8294 - dense_3_acc_9: 0.1505 - dense_3_acc_10: 0.073 - ETA: 10s - loss: 19.2473 - dense_3_loss_1: 1.6137 - dense_3_loss_2: 1.3298 - dense_3_loss_3: 1.9324 - dense_3_loss_4: 2.8250 - dense_3_loss_5: 1.1245 - dense_3_loss_6: 1.6521 - dense_3_loss_7: 2.7924 - dense_3_loss_8: 1.3700 - dense_3_loss_9: 1.8941 - dense_3_loss_10: 2.7133 - dense_3_acc_1: 0.3102 - dense_3_acc_2: 0.6147 - dense_3_acc_3: 0.2479 - dense_3_acc_4: 0.0771 - dense_3_acc_5: 0.9055 - dense_3_acc_6: 0.0894 - dense_3_acc_7: 0.0135 - dense_3_acc_8: 0.8320 - dense_3_acc_9: 0.1550 - dense_3_acc_10: 0.075 - ETA: 10s - loss: 19.1635 - dense_3_loss_1: 1.5955 - dense_3_loss_2: 1.3166 - dense_3_loss_3: 1.9236 - dense_3_loss_4: 2.8234 - dense_3_loss_5: 1.1138 - dense_3_loss_6: 1.6417 - dense_3_loss_7: 2.7928 - dense_3_loss_8: 1.3580 - dense_3_loss_9: 1.8880 - dense_3_loss_10: 2.7101 - dense_3_acc_1: 0.3184 - dense_3_acc_2: 0.6185 - dense_3_acc_3: 0.2499 - dense_3_acc_4: 0.0766 - dense_3_acc_5: 0.9069 - dense_3_acc_6: 0.0987 - dense_3_acc_7: 0.0140 - dense_3_acc_8: 0.8345 - dense_3_acc_9: 0.1590 - dense_3_acc_10: 0.075 - ETA: 10s - loss: 19.0737 - dense_3_loss_1: 1.5775 - dense_3_loss_2: 1.3028 - dense_3_loss_3: 1.9142 - dense_3_loss_4: 2.8217 - dense_3_loss_5: 1.1024 - dense_3_loss_6: 1.6315 - dense_3_loss_7: 2.7926 - dense_3_loss_8: 1.3447 - dense_3_loss_9: 1.8806 - dense_3_loss_10: 2.7057 - dense_3_acc_1: 0.3272 - dense_3_acc_2: 0.6229 - dense_3_acc_3: 0.2518 - dense_3_acc_4: 0.0763 - dense_3_acc_5: 0.9082 - dense_3_acc_6: 0.1081 - dense_3_acc_7: 0.0149 - dense_3_acc_8: 0.8369 - dense_3_acc_9: 0.1629 - dense_3_acc_10: 0.076 - ETA: 9s - loss: 19.0017 - dense_3_loss_1: 1.5642 - dense_3_loss_2: 1.2976 - dense_3_loss_3: 1.9099 - dense_3_loss_4: 2.8184 - dense_3_loss_5: 1.0905 - dense_3_loss_6: 1.6220 - dense_3_loss_7: 2.7914 - dense_3_loss_8: 1.3315 - dense_3_loss_9: 1.8744 - dense_3_loss_10: 2.7019 - dense_3_acc_1: 0.3328 - dense_3_acc_2: 0.6241 - dense_3_acc_3: 0.2528 - dense_3_acc_4: 0.0771 - dense_3_acc_5: 0.9096 - dense_3_acc_6: 0.1175 - dense_3_acc_7: 0.0154 - dense_3_acc_8: 0.8393 - dense_3_acc_9: 0.1664 - dense_3_acc_10: 0.077 - ETA: 9s - loss: 18.9132 - dense_3_loss_1: 1.5474 - dense_3_loss_2: 1.2848 - dense_3_loss_3: 1.9023 - dense_3_loss_4: 2.8169 - dense_3_loss_5: 1.0787 - dense_3_loss_6: 1.6113 - dense_3_loss_7: 2.7914 - dense_3_loss_8: 1.3173 - dense_3_loss_9: 1.8663 - dense_3_loss_10: 2.6969 - dense_3_acc_1: 0.3411 - dense_3_acc_2: 0.6283 - dense_3_acc_3: 0.2547 - dense_3_acc_4: 0.0767 - dense_3_acc_5: 0.9109 - dense_3_acc_6: 0.1270 - dense_3_acc_7: 0.0157 - dense_3_acc_8: 0.8416 - dense_3_acc_9: 0.1689 - dense_3_acc_10: 0.07 - ETA: 9s - loss: 18.8258 - dense_3_loss_1: 1.5309 - dense_3_loss_2: 1.2726 - dense_3_loss_3: 1.8943 - dense_3_loss_4: 2.8146 - dense_3_loss_5: 1.0668 - dense_3_loss_6: 1.6006 - dense_3_loss_7: 2.7904 - dense_3_loss_8: 1.3025 - dense_3_loss_9: 1.8601 - dense_3_loss_10: 2.6929 - dense_3_acc_1: 0.3492 - dense_3_acc_2: 0.6323 - dense_3_acc_3: 0.2568 - dense_3_acc_4: 0.0759 - dense_3_acc_5: 0.9121 - dense_3_acc_6: 0.1365 - dense_3_acc_7: 0.0165 - dense_3_acc_8: 0.8438 - dense_3_acc_9: 0.1714 - dense_3_acc_10: 0.07 - ETA: 8s - loss: 18.7368 - dense_3_loss_1: 1.5151 - dense_3_loss_2: 1.2613 - dense_3_loss_3: 1.8870 - dense_3_loss_4: 2.8118 - dense_3_loss_5: 1.0551 - dense_3_loss_6: 1.5899 - dense_3_loss_7: 2.7885 - dense_3_loss_8: 1.2880 - dense_3_loss_9: 1.8523 - dense_3_loss_10: 2.6878 - dense_3_acc_1: 0.3571 - dense_3_acc_2: 0.6364 - dense_3_acc_3: 0.2582 - dense_3_acc_4: 0.0764 - dense_3_acc_5: 0.9133 - dense_3_acc_6: 0.1450 - dense_3_acc_7: 0.0176 - dense_3_acc_8: 0.8460 - dense_3_acc_9: 0.1749 - dense_3_acc_10: 0.07 - ETA: 8s - loss: 18.6459 - dense_3_loss_1: 1.4994 - dense_3_loss_2: 1.2500 - dense_3_loss_3: 1.8795 - dense_3_loss_4: 2.8076 - dense_3_loss_5: 1.0431 - dense_3_loss_6: 1.5796 - dense_3_loss_7: 2.7851 - dense_3_loss_8: 1.2732 - dense_3_loss_9: 1.8450 - dense_3_loss_10: 2.6835 - dense_3_acc_1: 0.3645 - dense_3_acc_2: 0.6399 - dense_3_acc_3: 0.2607 - dense_3_acc_4: 0.0768 - dense_3_acc_5: 0.9145 - dense_3_acc_6: 0.1526 - dense_3_acc_7: 0.0195 - dense_3_acc_8: 0.8481 - dense_3_acc_9: 0.1785 - dense_3_acc_10: 0.08 - ETA: 8s - loss: 18.5571 - dense_3_loss_1: 1.4840 - dense_3_loss_2: 1.2379 - dense_3_loss_3: 1.8727 - dense_3_loss_4: 2.8040 - dense_3_loss_5: 1.0314 - dense_3_loss_6: 1.5690 - dense_3_loss_7: 2.7822 - dense_3_loss_8: 1.2588 - dense_3_loss_9: 1.8388 - dense_3_loss_10: 2.6782 - dense_3_acc_1: 0.3722 - dense_3_acc_2: 0.6439 - dense_3_acc_3: 0.2627 - dense_3_acc_4: 0.0766 - dense_3_acc_5: 0.9155 - dense_3_acc_6: 0.1603 - dense_3_acc_7: 0.0200 - dense_3_acc_8: 0.8500 - dense_3_acc_9: 0.1811 - dense_3_acc_10: 0.08 - ETA: 7s - loss: 18.4694 - dense_3_loss_1: 1.4698 - dense_3_loss_2: 1.2266 - dense_3_loss_3: 1.8681 - dense_3_loss_4: 2.7978 - dense_3_loss_5: 1.0195 - dense_3_loss_6: 1.5583 - dense_3_loss_7: 2.7793 - dense_3_loss_8: 1.2447 - dense_3_loss_9: 1.8320 - dense_3_loss_10: 2.6734 - dense_3_acc_1: 0.3784 - dense_3_acc_2: 0.6472 - dense_3_acc_3: 0.2637 - dense_3_acc_4: 0.0783 - dense_3_acc_5: 0.9167 - dense_3_acc_6: 0.1689 - dense_3_acc_7: 0.0211 - dense_3_acc_8: 0.8520 - dense_3_acc_9: 0.1833 - dense_3_acc_10: 0.08 - ETA: 7s - loss: 18.3805 - dense_3_loss_1: 1.4554 - dense_3_loss_2: 1.2147 - dense_3_loss_3: 1.8627 - dense_3_loss_4: 2.7919 - dense_3_loss_5: 1.0077 - dense_3_loss_6: 1.5473 - dense_3_loss_7: 2.7756 - dense_3_loss_8: 1.2302 - dense_3_loss_9: 1.8257 - dense_3_loss_10: 2.6692 - dense_3_acc_1: 0.3857 - dense_3_acc_2: 0.6509 - dense_3_acc_3: 0.2647 - dense_3_acc_4: 0.0786 - dense_3_acc_5: 0.9178 - dense_3_acc_6: 0.1771 - dense_3_acc_7: 0.0220 - dense_3_acc_8: 0.8539 - dense_3_acc_9: 0.1854 - dense_3_acc_10: 0.08 - ETA: 7s - loss: 18.2862 - dense_3_loss_1: 1.4401 - dense_3_loss_2: 1.2019 - dense_3_loss_3: 1.8549 - dense_3_loss_4: 2.7869 - dense_3_loss_5: 0.9963 - dense_3_loss_6: 1.5367 - dense_3_loss_7: 2.7717 - dense_3_loss_8: 1.2156 - dense_3_loss_9: 1.8174 - dense_3_loss_10: 2.6646 - dense_3_acc_1: 0.3930 - dense_3_acc_2: 0.6548 - dense_3_acc_3: 0.2673 - dense_3_acc_4: 0.0792 - dense_3_acc_5: 0.9188 - dense_3_acc_6: 0.1840 - dense_3_acc_7: 0.0229 - dense_3_acc_8: 0.8558 - dense_3_acc_9: 0.1894 - dense_3_acc_10: 0.08 - ETA: 6s - loss: 18.1944 - dense_3_loss_1: 1.4252 - dense_3_loss_2: 1.1894 - dense_3_loss_3: 1.8479 - dense_3_loss_4: 2.7827 - dense_3_loss_5: 0.9850 - dense_3_loss_6: 1.5249 - dense_3_loss_7: 2.7680 - dense_3_loss_8: 1.2012 - dense_3_loss_9: 1.8105 - dense_3_loss_10: 2.6598 - dense_3_acc_1: 0.4003 - dense_3_acc_2: 0.6587 - dense_3_acc_3: 0.2697 - dense_3_acc_4: 0.0794 - dense_3_acc_5: 0.9199 - dense_3_acc_6: 0.1923 - dense_3_acc_7: 0.0233 - dense_3_acc_8: 0.8577 - dense_3_acc_9: 0.1921 - dense_3_acc_10: 0.08 - ETA: 6s - loss: 18.1076 - dense_3_loss_1: 1.4117 - dense_3_loss_2: 1.1794 - dense_3_loss_3: 1.8398 - dense_3_loss_4: 2.7785 - dense_3_loss_5: 0.9739 - dense_3_loss_6: 1.5136 - dense_3_loss_7: 2.7647 - dense_3_loss_8: 1.1871 - dense_3_loss_9: 1.8034 - dense_3_loss_10: 2.6553 - dense_3_acc_1: 0.4063 - dense_3_acc_2: 0.6615 - dense_3_acc_3: 0.2728 - dense_3_acc_4: 0.0805 - dense_3_acc_5: 0.9209 - dense_3_acc_6: 0.1999 - dense_3_acc_7: 0.0241 - dense_3_acc_8: 0.8595 - dense_3_acc_9: 0.1942 - dense_3_acc_10: 0.08 - ETA: 6s - loss: 18.0208 - dense_3_loss_1: 1.3987 - dense_3_loss_2: 1.1700 - dense_3_loss_3: 1.8314 - dense_3_loss_4: 2.7737 - dense_3_loss_5: 0.9630 - dense_3_loss_6: 1.5033 - dense_3_loss_7: 2.7595 - dense_3_loss_8: 1.1735 - dense_3_loss_9: 1.7971 - dense_3_loss_10: 2.6506 - dense_3_acc_1: 0.4121 - dense_3_acc_2: 0.6641 - dense_3_acc_3: 0.2761 - dense_3_acc_4: 0.0820 - dense_3_acc_5: 0.9219 - dense_3_acc_6: 0.2064 - dense_3_acc_7: 0.0254 - dense_3_acc_8: 0.8613 - dense_3_acc_9: 0.1971 - dense_3_acc_10: 0.0837"
     ]
    },
    {
     "name": "stdout",
     "output_type": "stream",
     "text": [
      " 9600/10000 [===========================>..] - ETA: 5s - loss: 17.9332 - dense_3_loss_1: 1.3850 - dense_3_loss_2: 1.1589 - dense_3_loss_3: 1.8244 - dense_3_loss_4: 2.7693 - dense_3_loss_5: 0.9522 - dense_3_loss_6: 1.4924 - dense_3_loss_7: 2.7545 - dense_3_loss_8: 1.1602 - dense_3_loss_9: 1.7905 - dense_3_loss_10: 2.6459 - dense_3_acc_1: 0.4189 - dense_3_acc_2: 0.6677 - dense_3_acc_3: 0.2774 - dense_3_acc_4: 0.0825 - dense_3_acc_5: 0.9228 - dense_3_acc_6: 0.2135 - dense_3_acc_7: 0.0267 - dense_3_acc_8: 0.8630 - dense_3_acc_9: 0.1994 - dense_3_acc_10: 0.08 - ETA: 5s - loss: 17.8490 - dense_3_loss_1: 1.3717 - dense_3_loss_2: 1.1477 - dense_3_loss_3: 1.8173 - dense_3_loss_4: 2.7657 - dense_3_loss_5: 0.9416 - dense_3_loss_6: 1.4821 - dense_3_loss_7: 2.7483 - dense_3_loss_8: 1.1475 - dense_3_loss_9: 1.7857 - dense_3_loss_10: 2.6414 - dense_3_acc_1: 0.4256 - dense_3_acc_2: 0.6711 - dense_3_acc_3: 0.2798 - dense_3_acc_4: 0.0826 - dense_3_acc_5: 0.9238 - dense_3_acc_6: 0.2202 - dense_3_acc_7: 0.0282 - dense_3_acc_8: 0.8646 - dense_3_acc_9: 0.2016 - dense_3_acc_10: 0.08 - ETA: 5s - loss: 17.7649 - dense_3_loss_1: 1.3589 - dense_3_loss_2: 1.1371 - dense_3_loss_3: 1.8114 - dense_3_loss_4: 2.7616 - dense_3_loss_5: 0.9313 - dense_3_loss_6: 1.4708 - dense_3_loss_7: 2.7428 - dense_3_loss_8: 1.1352 - dense_3_loss_9: 1.7799 - dense_3_loss_10: 2.6359 - dense_3_acc_1: 0.4319 - dense_3_acc_2: 0.6746 - dense_3_acc_3: 0.2816 - dense_3_acc_4: 0.0828 - dense_3_acc_5: 0.9247 - dense_3_acc_6: 0.2278 - dense_3_acc_7: 0.0290 - dense_3_acc_8: 0.8663 - dense_3_acc_9: 0.2041 - dense_3_acc_10: 0.08 - ETA: 4s - loss: 17.6837 - dense_3_loss_1: 1.3466 - dense_3_loss_2: 1.1262 - dense_3_loss_3: 1.8047 - dense_3_loss_4: 2.7573 - dense_3_loss_5: 0.9210 - dense_3_loss_6: 1.4615 - dense_3_loss_7: 2.7373 - dense_3_loss_8: 1.1231 - dense_3_loss_9: 1.7741 - dense_3_loss_10: 2.6318 - dense_3_acc_1: 0.4382 - dense_3_acc_2: 0.6779 - dense_3_acc_3: 0.2838 - dense_3_acc_4: 0.0830 - dense_3_acc_5: 0.9256 - dense_3_acc_6: 0.2339 - dense_3_acc_7: 0.0308 - dense_3_acc_8: 0.8679 - dense_3_acc_9: 0.2058 - dense_3_acc_10: 0.08 - ETA: 4s - loss: 17.5992 - dense_3_loss_1: 1.3341 - dense_3_loss_2: 1.1155 - dense_3_loss_3: 1.7973 - dense_3_loss_4: 2.7523 - dense_3_loss_5: 0.9109 - dense_3_loss_6: 1.4519 - dense_3_loss_7: 2.7310 - dense_3_loss_8: 1.1110 - dense_3_loss_9: 1.7676 - dense_3_loss_10: 2.6277 - dense_3_acc_1: 0.4444 - dense_3_acc_2: 0.6812 - dense_3_acc_3: 0.2866 - dense_3_acc_4: 0.0834 - dense_3_acc_5: 0.9265 - dense_3_acc_6: 0.2399 - dense_3_acc_7: 0.0327 - dense_3_acc_8: 0.8694 - dense_3_acc_9: 0.2068 - dense_3_acc_10: 0.08 - ETA: 4s - loss: 17.5197 - dense_3_loss_1: 1.3222 - dense_3_loss_2: 1.1057 - dense_3_loss_3: 1.7894 - dense_3_loss_4: 2.7483 - dense_3_loss_5: 0.9009 - dense_3_loss_6: 1.4427 - dense_3_loss_7: 2.7256 - dense_3_loss_8: 1.0989 - dense_3_loss_9: 1.7625 - dense_3_loss_10: 2.6237 - dense_3_acc_1: 0.4499 - dense_3_acc_2: 0.6841 - dense_3_acc_3: 0.2888 - dense_3_acc_4: 0.0836 - dense_3_acc_5: 0.9273 - dense_3_acc_6: 0.2453 - dense_3_acc_7: 0.0342 - dense_3_acc_8: 0.8709 - dense_3_acc_9: 0.2087 - dense_3_acc_10: 0.09 - ETA: 3s - loss: 17.4413 - dense_3_loss_1: 1.3106 - dense_3_loss_2: 1.0968 - dense_3_loss_3: 1.7825 - dense_3_loss_4: 2.7435 - dense_3_loss_5: 0.8912 - dense_3_loss_6: 1.4319 - dense_3_loss_7: 2.7206 - dense_3_loss_8: 1.0870 - dense_3_loss_9: 1.7575 - dense_3_loss_10: 2.6197 - dense_3_acc_1: 0.4553 - dense_3_acc_2: 0.6868 - dense_3_acc_3: 0.2910 - dense_3_acc_4: 0.0845 - dense_3_acc_5: 0.9282 - dense_3_acc_6: 0.2521 - dense_3_acc_7: 0.0359 - dense_3_acc_8: 0.8724 - dense_3_acc_9: 0.2099 - dense_3_acc_10: 0.09 - ETA: 3s - loss: 17.3657 - dense_3_loss_1: 1.2986 - dense_3_loss_2: 1.0864 - dense_3_loss_3: 1.7752 - dense_3_loss_4: 2.7401 - dense_3_loss_5: 0.8816 - dense_3_loss_6: 1.4226 - dense_3_loss_7: 2.7153 - dense_3_loss_8: 1.0753 - dense_3_loss_9: 1.7547 - dense_3_loss_10: 2.6159 - dense_3_acc_1: 0.4609 - dense_3_acc_2: 0.6901 - dense_3_acc_3: 0.2928 - dense_3_acc_4: 0.0844 - dense_3_acc_5: 0.9290 - dense_3_acc_6: 0.2574 - dense_3_acc_7: 0.0372 - dense_3_acc_8: 0.8739 - dense_3_acc_9: 0.2108 - dense_3_acc_10: 0.09 - ETA: 3s - loss: 17.2903 - dense_3_loss_1: 1.2874 - dense_3_loss_2: 1.0772 - dense_3_loss_3: 1.7683 - dense_3_loss_4: 2.7365 - dense_3_loss_5: 0.8721 - dense_3_loss_6: 1.4129 - dense_3_loss_7: 2.7100 - dense_3_loss_8: 1.0639 - dense_3_loss_9: 1.7495 - dense_3_loss_10: 2.6124 - dense_3_acc_1: 0.4663 - dense_3_acc_2: 0.6928 - dense_3_acc_3: 0.2945 - dense_3_acc_4: 0.0852 - dense_3_acc_5: 0.9298 - dense_3_acc_6: 0.2633 - dense_3_acc_7: 0.0383 - dense_3_acc_8: 0.8753 - dense_3_acc_9: 0.2128 - dense_3_acc_10: 0.09 - ETA: 2s - loss: 17.2132 - dense_3_loss_1: 1.2761 - dense_3_loss_2: 1.0675 - dense_3_loss_3: 1.7609 - dense_3_loss_4: 2.7323 - dense_3_loss_5: 0.8629 - dense_3_loss_6: 1.4035 - dense_3_loss_7: 2.7050 - dense_3_loss_8: 1.0527 - dense_3_loss_9: 1.7441 - dense_3_loss_10: 2.6083 - dense_3_acc_1: 0.4714 - dense_3_acc_2: 0.6954 - dense_3_acc_3: 0.2970 - dense_3_acc_4: 0.0856 - dense_3_acc_5: 0.9306 - dense_3_acc_6: 0.2690 - dense_3_acc_7: 0.0396 - dense_3_acc_8: 0.8767 - dense_3_acc_9: 0.2136 - dense_3_acc_10: 0.09 - ETA: 2s - loss: 17.1384 - dense_3_loss_1: 1.2647 - dense_3_loss_2: 1.0575 - dense_3_loss_3: 1.7550 - dense_3_loss_4: 2.7273 - dense_3_loss_5: 0.8538 - dense_3_loss_6: 1.3932 - dense_3_loss_7: 2.6998 - dense_3_loss_8: 1.0418 - dense_3_loss_9: 1.7413 - dense_3_loss_10: 2.6042 - dense_3_acc_1: 0.4769 - dense_3_acc_2: 0.6985 - dense_3_acc_3: 0.2979 - dense_3_acc_4: 0.0858 - dense_3_acc_5: 0.9313 - dense_3_acc_6: 0.2755 - dense_3_acc_7: 0.0418 - dense_3_acc_8: 0.8780 - dense_3_acc_9: 0.2144 - dense_3_acc_10: 0.09 - ETA: 2s - loss: 17.0650 - dense_3_loss_1: 1.2537 - dense_3_loss_2: 1.0479 - dense_3_loss_3: 1.7488 - dense_3_loss_4: 2.7229 - dense_3_loss_5: 0.8448 - dense_3_loss_6: 1.3842 - dense_3_loss_7: 2.6950 - dense_3_loss_8: 1.0310 - dense_3_loss_9: 1.7361 - dense_3_loss_10: 2.6006 - dense_3_acc_1: 0.4822 - dense_3_acc_2: 0.7013 - dense_3_acc_3: 0.2993 - dense_3_acc_4: 0.0859 - dense_3_acc_5: 0.9321 - dense_3_acc_6: 0.2809 - dense_3_acc_7: 0.0429 - dense_3_acc_8: 0.8793 - dense_3_acc_9: 0.2152 - dense_3_acc_10: 0.09 - ETA: 2s - loss: 16.9959 - dense_3_loss_1: 1.2434 - dense_3_loss_2: 1.0394 - dense_3_loss_3: 1.7442 - dense_3_loss_4: 2.7186 - dense_3_loss_5: 0.8361 - dense_3_loss_6: 1.3753 - dense_3_loss_7: 2.6894 - dense_3_loss_8: 1.0205 - dense_3_loss_9: 1.7317 - dense_3_loss_10: 2.5974 - dense_3_acc_1: 0.4871 - dense_3_acc_2: 0.7038 - dense_3_acc_3: 0.3002 - dense_3_acc_4: 0.0865 - dense_3_acc_5: 0.9328 - dense_3_acc_6: 0.2861 - dense_3_acc_7: 0.0451 - dense_3_acc_8: 0.8806 - dense_3_acc_9: 0.2171 - dense_3_acc_10: 0.09 - ETA: 1s - loss: 16.9260 - dense_3_loss_1: 1.2328 - dense_3_loss_2: 1.0300 - dense_3_loss_3: 1.7380 - dense_3_loss_4: 2.7146 - dense_3_loss_5: 0.8275 - dense_3_loss_6: 1.3665 - dense_3_loss_7: 2.6842 - dense_3_loss_8: 1.0101 - dense_3_loss_9: 1.7276 - dense_3_loss_10: 2.5946 - dense_3_acc_1: 0.4920 - dense_3_acc_2: 0.7065 - dense_3_acc_3: 0.3021 - dense_3_acc_4: 0.0870 - dense_3_acc_5: 0.9335 - dense_3_acc_6: 0.2911 - dense_3_acc_7: 0.0477 - dense_3_acc_8: 0.8819 - dense_3_acc_9: 0.2191 - dense_3_acc_10: 0.09 - ETA: 1s - loss: 16.8559 - dense_3_loss_1: 1.2222 - dense_3_loss_2: 1.0205 - dense_3_loss_3: 1.7319 - dense_3_loss_4: 2.7101 - dense_3_loss_5: 0.8192 - dense_3_loss_6: 1.3577 - dense_3_loss_7: 2.6796 - dense_3_loss_8: 0.9999 - dense_3_loss_9: 1.7233 - dense_3_loss_10: 2.5914 - dense_3_acc_1: 0.4971 - dense_3_acc_2: 0.7094 - dense_3_acc_3: 0.3040 - dense_3_acc_4: 0.0877 - dense_3_acc_5: 0.9342 - dense_3_acc_6: 0.2959 - dense_3_acc_7: 0.0485 - dense_3_acc_8: 0.8832 - dense_3_acc_9: 0.2198 - dense_3_acc_10: 0.09 - ETA: 1s - loss: 16.7877 - dense_3_loss_1: 1.2128 - dense_3_loss_2: 1.0128 - dense_3_loss_3: 1.7247 - dense_3_loss_4: 2.7061 - dense_3_loss_5: 0.8112 - dense_3_loss_6: 1.3489 - dense_3_loss_7: 2.6742 - dense_3_loss_8: 0.9900 - dense_3_loss_9: 1.7187 - dense_3_loss_10: 2.5883 - dense_3_acc_1: 0.5015 - dense_3_acc_2: 0.7116 - dense_3_acc_3: 0.3070 - dense_3_acc_4: 0.0882 - dense_3_acc_5: 0.9349 - dense_3_acc_6: 0.3007 - dense_3_acc_7: 0.0499 - dense_3_acc_8: 0.8844 - dense_3_acc_9: 0.2212 - dense_3_acc_10: 0.0959"
     ]
    },
    {
     "name": "stdout",
     "output_type": "stream",
     "text": [
      "10000/10000 [==============================] - ETA: 0s - loss: 16.7194 - dense_3_loss_1: 1.2028 - dense_3_loss_2: 1.0046 - dense_3_loss_3: 1.7184 - dense_3_loss_4: 2.7007 - dense_3_loss_5: 0.8032 - dense_3_loss_6: 1.3410 - dense_3_loss_7: 2.6688 - dense_3_loss_8: 0.9802 - dense_3_loss_9: 1.7147 - dense_3_loss_10: 2.5851 - dense_3_acc_1: 0.5061 - dense_3_acc_2: 0.7140 - dense_3_acc_3: 0.3092 - dense_3_acc_4: 0.0890 - dense_3_acc_5: 0.9356 - dense_3_acc_6: 0.3051 - dense_3_acc_7: 0.0515 - dense_3_acc_8: 0.8856 - dense_3_acc_9: 0.2220 - dense_3_acc_10: 0.09 - ETA: 0s - loss: 16.6529 - dense_3_loss_1: 1.1927 - dense_3_loss_2: 0.9960 - dense_3_loss_3: 1.7131 - dense_3_loss_4: 2.6960 - dense_3_loss_5: 0.7952 - dense_3_loss_6: 1.3328 - dense_3_loss_7: 2.6643 - dense_3_loss_8: 0.9705 - dense_3_loss_9: 1.7106 - dense_3_loss_10: 2.5817 - dense_3_acc_1: 0.5107 - dense_3_acc_2: 0.7164 - dense_3_acc_3: 0.3104 - dense_3_acc_4: 0.0901 - dense_3_acc_5: 0.9362 - dense_3_acc_6: 0.3099 - dense_3_acc_7: 0.0524 - dense_3_acc_8: 0.8867 - dense_3_acc_9: 0.2232 - dense_3_acc_10: 0.09 - ETA: 0s - loss: 16.5903 - dense_3_loss_1: 1.1836 - dense_3_loss_2: 0.9883 - dense_3_loss_3: 1.7072 - dense_3_loss_4: 2.6920 - dense_3_loss_5: 0.7875 - dense_3_loss_6: 1.3246 - dense_3_loss_7: 2.6592 - dense_3_loss_8: 0.9610 - dense_3_loss_9: 1.7085 - dense_3_loss_10: 2.5784 - dense_3_acc_1: 0.5147 - dense_3_acc_2: 0.7185 - dense_3_acc_3: 0.3128 - dense_3_acc_4: 0.0908 - dense_3_acc_5: 0.9369 - dense_3_acc_6: 0.3145 - dense_3_acc_7: 0.0539 - dense_3_acc_8: 0.8879 - dense_3_acc_9: 0.2240 - dense_3_acc_10: 0.09 - 28s - loss: 16.5255 - dense_3_loss_1: 1.1740 - dense_3_loss_2: 0.9804 - dense_3_loss_3: 1.7020 - dense_3_loss_4: 2.6877 - dense_3_loss_5: 0.7799 - dense_3_loss_6: 1.3167 - dense_3_loss_7: 2.6538 - dense_3_loss_8: 0.9517 - dense_3_loss_9: 1.7038 - dense_3_loss_10: 2.5755 - dense_3_acc_1: 0.5191 - dense_3_acc_2: 0.7207 - dense_3_acc_3: 0.3138 - dense_3_acc_4: 0.0917 - dense_3_acc_5: 0.9375 - dense_3_acc_6: 0.3195 - dense_3_acc_7: 0.0559 - dense_3_acc_8: 0.8890 - dense_3_acc_9: 0.2257 - dense_3_acc_10: 0.0981    \n"
     ]
    },
    {
     "data": {
      "text/plain": [
       "<keras.callbacks.History at 0x2090dfb7898>"
      ]
     },
     "execution_count": 19,
     "metadata": {},
     "output_type": "execute_result"
    }
   ],
   "source": [
    "model.fit([Xoh, s0, c0], outputs, epochs=1, batch_size=100)"
   ]
  },
  {
   "cell_type": "markdown",
   "metadata": {},
   "source": [
    "While training you can see the loss as well as the accuracy on each of the 10 positions of the output. The table below gives you an example of what the accuracies could be if the batch had 2 examples: \n",
    "\n",
    "<img src=\"images/table.png\" style=\"width:700;height:200px;\"> <br>\n",
    "<caption><center>Thus, `dense_2_acc_8: 0.89` means that you are predicting the 7th character of the output correctly 89% of the time in the current batch of data. </center></caption>\n",
    "\n",
    "\n",
    "We have run this model for longer, and saved the weights. Run the next cell to load our weights. (By training a model for several minutes, you should be able to obtain a model of similar accuracy, but loading our model will save you time.) "
   ]
  },
  {
   "cell_type": "code",
   "execution_count": 20,
   "metadata": {},
   "outputs": [],
   "source": [
    "model.load_weights('models/model.h5')"
   ]
  },
  {
   "cell_type": "markdown",
   "metadata": {},
   "source": [
    "You can now see the results on new examples."
   ]
  },
  {
   "cell_type": "code",
   "execution_count": 21,
   "metadata": {
    "scrolled": true
   },
   "outputs": [
    {
     "name": "stdout",
     "output_type": "stream",
     "text": [
      "source: 3 May 1979\n",
      "output: 1979-05-03\n",
      "source: 5 April 09\n",
      "output: 2009-05-05\n",
      "source: 21th of August 2016\n",
      "output: 2016-08-21\n",
      "source: Tue 10 Jul 2007\n",
      "output: 2007-07-10\n",
      "source: Saturday May 9 2018\n",
      "output: 2018-05-09\n",
      "source: March 3 2001\n",
      "output: 2001-03-03\n",
      "source: March 3rd 2001\n",
      "output: 2001-03-03\n",
      "source: 1 March 2001\n",
      "output: 2001-03-01\n"
     ]
    }
   ],
   "source": [
    "EXAMPLES = ['3 May 1979', '5 April 09', '21th of August 2016', 'Tue 10 Jul 2007', 'Saturday May 9 2018', 'March 3 2001', 'March 3rd 2001', '1 March 2001']\n",
    "for example in EXAMPLES:\n",
    "    \n",
    "    source = string_to_int(example, Tx, human_vocab)\n",
    "    source = np.array(list(map(lambda x: to_categorical(x, num_classes=len(human_vocab)), source))).swapaxes(0,1)\n",
    "    prediction = model.predict([source, s0, c0])\n",
    "    prediction = np.argmax(prediction, axis = -1)\n",
    "    output = [inv_machine_vocab[int(i)] for i in prediction]\n",
    "    \n",
    "    print(\"source:\", example)\n",
    "    print(\"output:\", ''.join(output))"
   ]
  },
  {
   "cell_type": "markdown",
   "metadata": {},
   "source": [
    "You can also change these examples to test with your own examples. The next part will give you a better sense on what the attention mechanism is doing--i.e., what part of the input the network is paying attention to when generating a particular output character. "
   ]
  },
  {
   "cell_type": "markdown",
   "metadata": {},
   "source": [
    "## 3 - Visualizing Attention (Optional / Ungraded)\n",
    "\n",
    "Since the problem has a fixed output length of 10, it is also possible to carry out this task using 10 different softmax units to generate the 10 characters of the output. But one advantage of the attention model is that each part of the output (say the month) knows it needs to depend only on a small part of the input (the characters in the input giving the month). We can  visualize what part of the output is looking at what part of the input.\n",
    "\n",
    "Consider the task of translating \"Saturday 9 May 2018\" to \"2018-05-09\". If we visualize the computed $\\alpha^{\\langle t, t' \\rangle}$ we get this: \n",
    "\n",
    "<img src=\"images/date_attention.png\" style=\"width:600;height:300px;\"> <br>\n",
    "<caption><center> **Figure 8**: Full Attention Map</center></caption>\n",
    "\n",
    "Notice how the output ignores the \"Saturday\" portion of the input. None of the output timesteps are paying much attention to that portion of the input. We see also that 9 has been translated as 09 and May has been correctly translated into 05, with the output paying attention to the parts of the input it needs to to make the translation. The year mostly requires it to pay attention to the input's \"18\" in order to generate \"2018.\" \n",
    "\n"
   ]
  },
  {
   "cell_type": "markdown",
   "metadata": {},
   "source": [
    "### 3.1 - Getting the activations from the network\n",
    "\n",
    "Lets now visualize the attention values in your network. We'll propagate an example through the network, then visualize the values of $\\alpha^{\\langle t, t' \\rangle}$. \n",
    "\n",
    "To figure out where the attention values are located, let's start by printing a summary of the model ."
   ]
  },
  {
   "cell_type": "code",
   "execution_count": 22,
   "metadata": {},
   "outputs": [
    {
     "name": "stdout",
     "output_type": "stream",
     "text": [
      "____________________________________________________________________________________________________\n",
      "Layer (type)                     Output Shape          Param #     Connected to                     \n",
      "====================================================================================================\n",
      "input_1 (InputLayer)             (None, 30, 37)        0                                            \n",
      "____________________________________________________________________________________________________\n",
      "s0 (InputLayer)                  (None, 64)            0                                            \n",
      "____________________________________________________________________________________________________\n",
      "bidirectional_1 (Bidirectional)  (None, 30, 64)        17920       input_1[0][0]                    \n",
      "____________________________________________________________________________________________________\n",
      "repeat_vector_1 (RepeatVector)   (None, 30, 64)        0           s0[0][0]                         \n",
      "                                                                   lstm_1[0][0]                     \n",
      "                                                                   lstm_1[1][0]                     \n",
      "                                                                   lstm_1[2][0]                     \n",
      "                                                                   lstm_1[3][0]                     \n",
      "                                                                   lstm_1[4][0]                     \n",
      "                                                                   lstm_1[5][0]                     \n",
      "                                                                   lstm_1[6][0]                     \n",
      "                                                                   lstm_1[7][0]                     \n",
      "                                                                   lstm_1[8][0]                     \n",
      "____________________________________________________________________________________________________\n",
      "concatenate_1 (Concatenate)      (None, 30, 128)       0           bidirectional_1[0][0]            \n",
      "                                                                   repeat_vector_1[0][0]            \n",
      "                                                                   bidirectional_1[0][0]            \n",
      "                                                                   repeat_vector_1[1][0]            \n",
      "                                                                   bidirectional_1[0][0]            \n",
      "                                                                   repeat_vector_1[2][0]            \n",
      "                                                                   bidirectional_1[0][0]            \n",
      "                                                                   repeat_vector_1[3][0]            \n",
      "                                                                   bidirectional_1[0][0]            \n",
      "                                                                   repeat_vector_1[4][0]            \n",
      "                                                                   bidirectional_1[0][0]            \n",
      "                                                                   repeat_vector_1[5][0]            \n",
      "                                                                   bidirectional_1[0][0]            \n",
      "                                                                   repeat_vector_1[6][0]            \n",
      "                                                                   bidirectional_1[0][0]            \n",
      "                                                                   repeat_vector_1[7][0]            \n",
      "                                                                   bidirectional_1[0][0]            \n",
      "                                                                   repeat_vector_1[8][0]            \n",
      "                                                                   bidirectional_1[0][0]            \n",
      "                                                                   repeat_vector_1[9][0]            \n",
      "____________________________________________________________________________________________________\n",
      "dense_1 (Dense)                  (None, 30, 10)        1290        concatenate_1[0][0]              \n",
      "                                                                   concatenate_1[1][0]              \n",
      "                                                                   concatenate_1[2][0]              \n",
      "                                                                   concatenate_1[3][0]              \n",
      "                                                                   concatenate_1[4][0]              \n",
      "                                                                   concatenate_1[5][0]              \n",
      "                                                                   concatenate_1[6][0]              \n",
      "                                                                   concatenate_1[7][0]              \n",
      "                                                                   concatenate_1[8][0]              \n",
      "                                                                   concatenate_1[9][0]              \n",
      "____________________________________________________________________________________________________\n",
      "dense_2 (Dense)                  (None, 30, 1)         11          dense_1[0][0]                    \n",
      "                                                                   dense_1[1][0]                    \n",
      "                                                                   dense_1[2][0]                    \n",
      "                                                                   dense_1[3][0]                    \n",
      "                                                                   dense_1[4][0]                    \n",
      "                                                                   dense_1[5][0]                    \n",
      "                                                                   dense_1[6][0]                    \n",
      "                                                                   dense_1[7][0]                    \n",
      "                                                                   dense_1[8][0]                    \n",
      "                                                                   dense_1[9][0]                    \n",
      "____________________________________________________________________________________________________\n",
      "attention_weights (Activation)   (None, 30, 1)         0           dense_2[0][0]                    \n",
      "                                                                   dense_2[1][0]                    \n",
      "                                                                   dense_2[2][0]                    \n",
      "                                                                   dense_2[3][0]                    \n",
      "                                                                   dense_2[4][0]                    \n",
      "                                                                   dense_2[5][0]                    \n",
      "                                                                   dense_2[6][0]                    \n",
      "                                                                   dense_2[7][0]                    \n",
      "                                                                   dense_2[8][0]                    \n",
      "                                                                   dense_2[9][0]                    \n",
      "____________________________________________________________________________________________________\n",
      "dot_1 (Dot)                      (None, 1, 64)         0           attention_weights[0][0]          \n",
      "                                                                   bidirectional_1[0][0]            \n",
      "                                                                   attention_weights[1][0]          \n",
      "                                                                   bidirectional_1[0][0]            \n",
      "                                                                   attention_weights[2][0]          \n",
      "                                                                   bidirectional_1[0][0]            \n",
      "                                                                   attention_weights[3][0]          \n"
     ]
    },
    {
     "name": "stdout",
     "output_type": "stream",
     "text": [
      "                                                                   bidirectional_1[0][0]            \n",
      "                                                                   attention_weights[4][0]          \n",
      "                                                                   bidirectional_1[0][0]            \n",
      "                                                                   attention_weights[5][0]          \n",
      "                                                                   bidirectional_1[0][0]            \n",
      "                                                                   attention_weights[6][0]          \n",
      "                                                                   bidirectional_1[0][0]            \n",
      "                                                                   attention_weights[7][0]          \n",
      "                                                                   bidirectional_1[0][0]            \n",
      "                                                                   attention_weights[8][0]          \n",
      "                                                                   bidirectional_1[0][0]            \n",
      "                                                                   attention_weights[9][0]          \n",
      "                                                                   bidirectional_1[0][0]            \n",
      "____________________________________________________________________________________________________\n",
      "c0 (InputLayer)                  (None, 64)            0                                            \n",
      "____________________________________________________________________________________________________\n",
      "lstm_1 (LSTM)                    [(None, 64), (None, 6 33024       dot_1[0][0]                      \n",
      "                                                                   s0[0][0]                         \n",
      "                                                                   c0[0][0]                         \n",
      "                                                                   dot_1[1][0]                      \n",
      "                                                                   lstm_1[0][0]                     \n",
      "                                                                   lstm_1[0][2]                     \n",
      "                                                                   dot_1[2][0]                      \n",
      "                                                                   lstm_1[1][0]                     \n",
      "                                                                   lstm_1[1][2]                     \n",
      "                                                                   dot_1[3][0]                      \n",
      "                                                                   lstm_1[2][0]                     \n",
      "                                                                   lstm_1[2][2]                     \n",
      "                                                                   dot_1[4][0]                      \n",
      "                                                                   lstm_1[3][0]                     \n",
      "                                                                   lstm_1[3][2]                     \n",
      "                                                                   dot_1[5][0]                      \n",
      "                                                                   lstm_1[4][0]                     \n",
      "                                                                   lstm_1[4][2]                     \n",
      "                                                                   dot_1[6][0]                      \n",
      "                                                                   lstm_1[5][0]                     \n",
      "                                                                   lstm_1[5][2]                     \n",
      "                                                                   dot_1[7][0]                      \n",
      "                                                                   lstm_1[6][0]                     \n",
      "                                                                   lstm_1[6][2]                     \n",
      "                                                                   dot_1[8][0]                      \n",
      "                                                                   lstm_1[7][0]                     \n",
      "                                                                   lstm_1[7][2]                     \n",
      "                                                                   dot_1[9][0]                      \n",
      "                                                                   lstm_1[8][0]                     \n",
      "                                                                   lstm_1[8][2]                     \n",
      "____________________________________________________________________________________________________\n",
      "dense_3 (Dense)                  (None, 11)            715         lstm_1[0][0]                     \n",
      "                                                                   lstm_1[1][0]                     \n",
      "                                                                   lstm_1[2][0]                     \n",
      "                                                                   lstm_1[3][0]                     \n",
      "                                                                   lstm_1[4][0]                     \n",
      "                                                                   lstm_1[5][0]                     \n",
      "                                                                   lstm_1[6][0]                     \n",
      "                                                                   lstm_1[7][0]                     \n",
      "                                                                   lstm_1[8][0]                     \n",
      "                                                                   lstm_1[9][0]                     \n",
      "====================================================================================================\n",
      "Total params: 52,960\n",
      "Trainable params: 52,960\n",
      "Non-trainable params: 0\n",
      "____________________________________________________________________________________________________\n"
     ]
    }
   ],
   "source": [
    "model.summary()"
   ]
  },
  {
   "cell_type": "markdown",
   "metadata": {},
   "source": [
    "Navigate through the output of `model.summary()` above. You can see that the layer named `attention_weights` outputs the `alphas` of shape (m, 30, 1) before `dot_2` computes the context vector for every time step $t = 0, \\ldots, T_y-1$. Lets get the activations from this layer.\n",
    "\n",
    "The function `attention_map()` pulls out the attention values from your model and plots them."
   ]
  },
  {
   "cell_type": "code",
   "execution_count": 23,
   "metadata": {
    "scrolled": false
   },
   "outputs": [
    {
     "data": {
      "text/plain": [
       "<matplotlib.figure.Figure at 0x2091a81ab00>"
      ]
     },
     "metadata": {},
     "output_type": "display_data"
    },
    {
     "data": {
      "image/png": "[encoded data removed]",
      "text/plain": [
       "<matplotlib.figure.Figure at 0x209225e2278>"
      ]
     },
     "metadata": {
      "needs_background": "light"
     },
     "output_type": "display_data"
    }
   ],
   "source": [
    "attention_map = plot_attention_map(model, human_vocab, inv_machine_vocab, \"Tuesday 09 Oct 1993\", num = 7, n_s = 64)"
   ]
  },
  {
   "cell_type": "markdown",
   "metadata": {},
   "source": [
    "On the generated plot you can observe the values of the attention weights for each character of the predicted output. Examine this plot and check that where the network is paying attention makes sense to you.\n",
    "\n",
    "In the date translation application, you will observe that most of the time attention helps predict the year, and hasn't much impact on predicting the day/month."
   ]
  },
  {
   "cell_type": "markdown",
   "metadata": {},
   "source": [
    "### Congratulations!\n",
    "\n",
    "\n",
    "You have come to the end of this assignment \n",
    "\n",
    "<font color='blue'> **Here's what you should remember from this notebook**:\n",
    "\n",
    "- Machine translation models can be used to map from one sequence to another. They are useful not just for translating human languages (like French->English) but also for tasks like date format translation. \n",
    "- An attention mechanism allows a network to focus on the most relevant parts of the input when producing a specific part of the output. \n",
    "- A network using an attention mechanism can translate from inputs of length $T_x$ to outputs of length $T_y$, where $T_x$ and $T_y$ can be different. \n",
    "- You can visualize attention weights $\\alpha^{\\langle t,t' \\rangle}$ to see what the network is paying attention to while generating each output."
   ]
  },
  {
   "cell_type": "markdown",
   "metadata": {},
   "source": [
    "Congratulations on finishing this assignment! You are now able to implement an attention model and use it to learn complex mappings from one sequence to another. "
   ]
  }
 ],
 "metadata": {
  "coursera": {
   "course_slug": "nlp-sequence-models",
   "graded_item_id": "n16CQ",
   "launcher_item_id": "npjGi"
  },
  "kernelspec": {
   "display_name": "Python 3",
   "language": "python",
   "name": "python3"
  },
  "language_info": {
   "codemirror_mode": {
    "name": "ipython",
    "version": 3
   },
   "file_extension": ".py",
   "mimetype": "text/x-python",
   "name": "python",
   "nbconvert_exporter": "python",
   "pygments_lexer": "ipython3",
   "version": "3.6.8"
  }
 },
 "nbformat": 4,
 "nbformat_minor": 2
}
